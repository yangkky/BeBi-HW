{
 "cells": [
  {
   "cell_type": "code",
   "execution_count": 1,
   "metadata": {
    "collapsed": true
   },
   "outputs": [],
   "source": [
    "import warnings\n",
    "\n",
    "# The workhorses\n",
    "import pandas as pd\n",
    "import numpy as np\n",
    "\n",
    "# Plotting modules\n",
    "import matplotlib.pyplot as plt\n",
    "import matplotlib.patches\n",
    "\n",
    "# This is to enable inline displays for the purposes of the tutorial\n",
    "%matplotlib inline\n",
    "\n",
    "# This enables SVG graphics inline\n",
    "%config InlineBackend.figure_formats = {'png', 'retina'}\n",
    "\n",
    "# Seaborn makes plots look nice\n",
    "import seaborn as sns\n",
    "sns.set_context('notebook', font_scale=1.5, rc={'lines.linewidth': 2.5})\n",
    "sns.set_style('darkgrid', {'axes.facecolor': '(0.875, 0.875, 0.9)'})\n",
    "\n",
    "# Suppress future warnings\n",
    "warnings.simplefilter(action='ignore', category=FutureWarning)"
   ]
  },
  {
   "cell_type": "code",
   "execution_count": 5,
   "metadata": {
    "collapsed": false
   },
   "outputs": [],
   "source": [
    "# Load data\n",
    "df = pd.read_csv('data/mean_rest_bouts.csv', comment='#')\n",
    "\n",
    "# Pull out wild type and mutant and take NaNs to be zero\n",
    "df = df[df['genotype'].isin(['wt', 'mut'])].fillna(0)"
   ]
  },
  {
   "cell_type": "code",
   "execution_count": 7,
   "metadata": {
    "collapsed": false
   },
   "outputs": [
    {
     "data": {
      "text/html": [
       "<div>\n",
       "<table border=\"1\" class=\"dataframe\">\n",
       "  <thead>\n",
       "    <tr style=\"text-align: right;\">\n",
       "      <th></th>\n",
       "      <th>fish</th>\n",
       "      <th>genotype</th>\n",
       "      <th>mean_rest_bout_length</th>\n",
       "    </tr>\n",
       "  </thead>\n",
       "  <tbody>\n",
       "    <tr>\n",
       "      <th>2</th>\n",
       "      <td>FISH11</td>\n",
       "      <td>mut</td>\n",
       "      <td>2.255556</td>\n",
       "    </tr>\n",
       "    <tr>\n",
       "      <th>3</th>\n",
       "      <td>FISH12</td>\n",
       "      <td>mut</td>\n",
       "      <td>1.529412</td>\n",
       "    </tr>\n",
       "    <tr>\n",
       "      <th>4</th>\n",
       "      <td>FISH13</td>\n",
       "      <td>mut</td>\n",
       "      <td>2.373626</td>\n",
       "    </tr>\n",
       "    <tr>\n",
       "      <th>5</th>\n",
       "      <td>FISH14</td>\n",
       "      <td>wt</td>\n",
       "      <td>2.352941</td>\n",
       "    </tr>\n",
       "    <tr>\n",
       "      <th>7</th>\n",
       "      <td>FISH18</td>\n",
       "      <td>wt</td>\n",
       "      <td>2.111111</td>\n",
       "    </tr>\n",
       "  </tbody>\n",
       "</table>\n",
       "</div>"
      ],
      "text/plain": [
       "     fish genotype  mean_rest_bout_length\n",
       "2  FISH11      mut               2.255556\n",
       "3  FISH12      mut               1.529412\n",
       "4  FISH13      mut               2.373626\n",
       "5  FISH14       wt               2.352941\n",
       "7  FISH18       wt               2.111111"
      ]
     },
     "execution_count": 7,
     "metadata": {},
     "output_type": "execute_result"
    }
   ],
   "source": [
    "df.head()"
   ]
  },
  {
   "cell_type": "markdown",
   "metadata": {},
   "source": [
    "## Problem 5.1a Frequentist parameter estimation\n",
    "\n",
    "We are assuming that both the wild-type and mutant bout-lengths have Gaussian distributions and want unbiased estimators for $\\mu_i$ and $\\sigma_i^2$, where $i \\in \\{w,m\\}$. These are, respectively, the sample mean:\n",
    "$$\\bar{x_i} = \\frac{1}{n_i}\\sum_{x_j \\in i} x_j$$\n",
    "and the sample variance:\n",
    "$$s_i^ 2 = \\frac{1}{n_i-1}\\sum_{x_j \\in i} (x_j - \\bar{x_i})^ 2$$\n",
    "\n",
    "We will use the built-in functions in Pandas to calculate these. "
   ]
  },
  {
   "cell_type": "code",
   "execution_count": 16,
   "metadata": {
    "collapsed": false
   },
   "outputs": [
    {
     "name": "stdout",
     "output_type": "stream",
     "text": [
      "            mean (min)   variance (min²)\n",
      "wild-type:  2.209        0.273\n",
      "mutant:     1.727        0.648\n"
     ]
    }
   ],
   "source": [
    "x_bar_w = df[df['genotype']=='wt']['mean_rest_bout_length'].mean()\n",
    "x_bar_m = df[df['genotype']=='mut']['mean_rest_bout_length'].mean()\n",
    "var_w = df[df['genotype']=='wt']['mean_rest_bout_length'].var()\n",
    "var_m = df[df['genotype']=='mut']['mean_rest_bout_length'].var()\n",
    "print ('            mean (min)   variance (min²)')\n",
    "print ('wild-type:  %.3f        %.3f' %(x_bar_w, var_w))\n",
    "print ('mutant:     %.3f        %.3f' %(x_bar_m, var_m))"
   ]
  },
  {
   "cell_type": "markdown",
   "metadata": {},
   "source": [
    "We also want to calculate Cohen's d as an estimate of the effect size. "
   ]
  },
  {
   "cell_type": "code",
   "execution_count": 19,
   "metadata": {
    "collapsed": false
   },
   "outputs": [
    {
     "name": "stdout",
     "output_type": "stream",
     "text": [
      "Cohen's d = -0.6927\n"
     ]
    }
   ],
   "source": [
    "def cohen_d(x, y, return_abs=False):\n",
    "    \"\"\"\n",
    "    Cohen's d\n",
    "    \"\"\"\n",
    "    diff = y.mean() - x.mean()\n",
    "    pooled_variance = (len(x) * x.var() + len(y) * y.var()) / (len(x) + len(y))\n",
    "\n",
    "    if return_abs:\n",
    "        return np.abs(diff) / np.sqrt(pooled_variance)\n",
    "    return diff / np.sqrt(pooled_variance)\n",
    "\n",
    "actual_d = cohen_d (df[df['genotype']=='wt']['mean_rest_bout_length'],\n",
    "        df[df['genotype']=='mut']['mean_rest_bout_length'])\n",
    "\n",
    "print (\"Cohen's d = %.4f\" %actual_d)"
   ]
  },
  {
   "cell_type": "code",
   "execution_count": null,
   "metadata": {
    "collapsed": true
   },
   "outputs": [],
   "source": []
  }
 ],
 "metadata": {
  "kernelspec": {
   "display_name": "Python 3",
   "language": "python",
   "name": "python3"
  },
  "language_info": {
   "codemirror_mode": {
    "name": "ipython",
    "version": 3
   },
   "file_extension": ".py",
   "mimetype": "text/x-python",
   "name": "python",
   "nbconvert_exporter": "python",
   "pygments_lexer": "ipython3",
   "version": "3.4.3"
  }
 },
 "nbformat": 4,
 "nbformat_minor": 0
}
