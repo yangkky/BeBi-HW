{
 "cells": [
  {
   "cell_type": "code",
   "execution_count": 32,
   "metadata": {
    "collapsed": false
   },
   "outputs": [],
   "source": [
    "import warnings\n",
    "\n",
    "# The workhorses\n",
    "import pandas as pd\n",
    "import numpy as np\n",
    "# Our main MCMC package\n",
    "import emcee\n",
    "import collections\n",
    "import scipy.stats as st\n",
    "\n",
    "# Plotting modules\n",
    "import matplotlib.pyplot as plt\n",
    "import matplotlib.patches\n",
    "\n",
    "# This is to enable inline displays for the purposes of the tutorial\n",
    "%matplotlib inline\n",
    "\n",
    "# This enables SVG graphics inline\n",
    "%config InlineBackend.figure_formats = {'png', 'retina'}\n",
    "\n",
    "# Seaborn makes plots look nice\n",
    "import seaborn as sns\n",
    "sns.set_context('notebook', font_scale=1.5, rc={'lines.linewidth': 2.5})\n",
    "sns.set_style('darkgrid', {'axes.facecolor': '(0.875, 0.875, 0.9)'})\n",
    "\n",
    "# Suppress future warnings\n",
    "warnings.simplefilter(action='ignore', category=FutureWarning)"
   ]
  },
  {
   "cell_type": "code",
   "execution_count": 33,
   "metadata": {
    "collapsed": false
   },
   "outputs": [],
   "source": [
    "# Load data\n",
    "df = pd.read_csv('data/mean_rest_bouts.csv', comment='#')\n",
    "\n",
    "# Pull out wild type and mutant and take NaNs to be zero\n",
    "df = df[df['genotype'].isin(['wt', 'mut'])].fillna(0)"
   ]
  },
  {
   "cell_type": "code",
   "execution_count": 34,
   "metadata": {
    "collapsed": false
   },
   "outputs": [],
   "source": [
    "wt = df[df['genotype']=='wt']['mean_rest_bout_length']\n",
    "mut = df[df['genotype']=='mut']['mean_rest_bout_length']"
   ]
  },
  {
   "cell_type": "markdown",
   "metadata": {},
   "source": [
    "## Problem 5.1a Frequentist parameter estimation\n",
    "\n",
    "We are assuming that both the wild-type and mutant bout-lengths have Gaussian distributions and want unbiased estimators for $\\mu_i$ and $\\sigma_i^2$, where $i \\in \\{w,m\\}$. These are, respectively, the sample mean:\n",
    "$$\\bar{x_i} = \\frac{1}{n_i}\\sum_{x_j \\in i} x_j$$\n",
    "and the sample variance:\n",
    "$$s_i^ 2 = \\frac{1}{n_i-1}\\sum_{x_j \\in i} (x_j - \\bar{x_i})^ 2$$\n",
    "\n",
    "We will use the built-in functions in Pandas to calculate these. "
   ]
  },
  {
   "cell_type": "code",
   "execution_count": 35,
   "metadata": {
    "collapsed": false
   },
   "outputs": [
    {
     "name": "stdout",
     "output_type": "stream",
     "text": [
      "            mean (min)   variance (min²)    n\n",
      "wild-type:  2.209        0.273             17\n",
      "mutant:     1.727        0.648             22\n"
     ]
    }
   ],
   "source": [
    "x_bar_w = wt.mean()\n",
    "x_bar_m = mut.mean()\n",
    "var_w = wt.var(ddof=1)\n",
    "var_m = mut.var(ddof=1)\n",
    "n_wt = len(wt)\n",
    "n_mut = len(mut)\n",
    "print ('            mean (min)   variance (min²)    n')\n",
    "print ('wild-type:  %.3f        %.3f             %d' %(x_bar_w, var_w, n_wt))\n",
    "print ('mutant:     %.3f        %.3f             %d' %(x_bar_m, var_m, n_mut))"
   ]
  },
  {
   "cell_type": "markdown",
   "metadata": {},
   "source": [
    "We also want to calculate Cohen's d as an estimate of the effect size. "
   ]
  },
  {
   "cell_type": "code",
   "execution_count": 36,
   "metadata": {
    "collapsed": false
   },
   "outputs": [
    {
     "name": "stdout",
     "output_type": "stream",
     "text": [
      "Cohen's d = -0.6927\n"
     ]
    }
   ],
   "source": [
    "def cohen_d(x, y, return_abs=False):\n",
    "    \"\"\"\n",
    "    Cohen's d\n",
    "    \"\"\"\n",
    "    diff = y.mean() - x.mean()\n",
    "    pooled_variance = (len(x) * x.var() + len(y) * y.var()) / (len(x) + len(y))\n",
    "\n",
    "    if return_abs:\n",
    "        return np.abs(diff) / np.sqrt(pooled_variance)\n",
    "    return diff / np.sqrt(pooled_variance)\n",
    "\n",
    "actual_d = cohen_d (wt,mut)\n",
    "\n",
    "print (\"Cohen's d = %.4f\" %actual_d)"
   ]
  },
  {
   "cell_type": "markdown",
   "metadata": {},
   "source": [
    "## Problem 5.1b Frequentist estimation of the difference\n",
    "\n",
    "Let's do this by bootstrapping. First, let's make a function that draws bootstrap samples and uses them to estimate some parameter. "
   ]
  },
  {
   "cell_type": "code",
   "execution_count": 37,
   "metadata": {
    "collapsed": true
   },
   "outputs": [],
   "source": [
    "def bootstrap_estimate (x, n, param_fun, args=(), replicates=1000):\n",
    "    \"\"\"Estimates a parameter by drawing bootstrap samples of x. \"\"\"\n",
    "    return np.array([param_fun(np.random.choice(x, n, replace=True)) \\\n",
    "            for r in range(replicates)])"
   ]
  },
  {
   "cell_type": "markdown",
   "metadata": {},
   "source": [
    "Now, let's use this function to calculate $\\delta = \\bar{x_w} - \\bar{x_m}$ for 1000 bootstrap samples. "
   ]
  },
  {
   "cell_type": "code",
   "execution_count": 38,
   "metadata": {
    "collapsed": false
   },
   "outputs": [
    {
     "data": {
      "text/plain": [
       "<matplotlib.text.Text at 0x10a27e240>"
      ]
     },
     "execution_count": 38,
     "metadata": {},
     "output_type": "execute_result"
    },
    {
     "data": {
      "image/png": "[encoded data removed]",
      "text/plain": [
       "<matplotlib.figure.Figure at 0x10da86f60>"
      ]
     },
     "metadata": {
      "image/png": {
       "height": 383,
       "width": 521
      }
     },
     "output_type": "display_data"
    }
   ],
   "source": [
    "deltas = bootstrap_estimate (wt, n_wt, np.mean, replicates=10000) \\\n",
    "- bootstrap_estimate(mut, n_mut, np.mean, replicates=10000)\n",
    "_ = plt.hist(deltas, bins=100)\n",
    "plt.xlabel ('$\\delta$ (min)')\n",
    "plt.ylabel ('samples')\n",
    "plt.title ('Bootstrap distribution for $\\delta$')"
   ]
  },
  {
   "cell_type": "markdown",
   "metadata": {},
   "source": [
    "That looks Gaussian enough that we can use the mean as the best estimate. We'll use the 2.5th and 97.5th percentiles to get a 95% confidence interval. "
   ]
  },
  {
   "cell_type": "code",
   "execution_count": 39,
   "metadata": {
    "collapsed": false
   },
   "outputs": [
    {
     "name": "stdout",
     "output_type": "stream",
     "text": [
      "The mean bootstrap value for delta is 0.4867 minutes.\n",
      "The 95% confidence interval for delta is (0.0772,0.8955) minutes.\n"
     ]
    }
   ],
   "source": [
    "delta_bar = np.mean(deltas)\n",
    "CI = tuple(np.percentile (deltas, (2.5, 97.5)))\n",
    "print ('The mean bootstrap value for delta is %.4f minutes.' % delta_bar)\n",
    "print ('The 95%% confidence interval for delta is (%.4f,%.4f) minutes.' %CI)"
   ]
  },
  {
   "cell_type": "markdown",
   "metadata": {},
   "source": [
    "# Problem 5.1 c"
   ]
  },
  {
   "cell_type": "code",
   "execution_count": 40,
   "metadata": {
    "collapsed": false
   },
   "outputs": [],
   "source": [
    "mut_inds = df['genotype'] == 'mut'\n",
    "wt_inds = df['genotype'] == 'wt'\n",
    "\n",
    "df_mut = df[mut_inds]\n",
    "df_wt = df[wt_inds]\n",
    "\n",
    "wt_rest = df_wt['mean_rest_bout_length']\n",
    "mut_rest = df_mut['mean_rest_bout_length']"
   ]
  },
  {
   "cell_type": "code",
   "execution_count": 41,
   "metadata": {
    "collapsed": true
   },
   "outputs": [],
   "source": [
    "def log_post(p, x_1, x_2):\n",
    "    \"\"\"\n",
    "    p[0] = mu_wt\n",
    "    p[1] = mu_mut\n",
    "    p[2] = sigma_wt\n",
    "    p[3] = sigma_mut\n",
    "    \"\"\"\n",
    "    # Unpack parameters\n",
    "    mu_wt, mu_mut, sigma_wt, sigma_mut = p\n",
    "    \n",
    "    # Make sure we have everything in the right range\n",
    "    if (sigma_wt < 0) or (sigma_mut < 0):\n",
    "        return -np.inf\n",
    "\n",
    "    # Compute separate parts of posterior from each sample\n",
    "    log_post_1 = st.norm.logpdf(x_1, mu_wt, sigma_wt).sum() - np.log(sigma_wt)\n",
    "    log_post_2 = st.norm.logpdf(x_2, mu_mut, sigma_mut).sum() - np.log(sigma_mut)\n",
    "\n",
    "    # Add them up to return\n",
    "    return log_post_1 + log_post_2"
   ]
  },
  {
   "cell_type": "code",
   "execution_count": 42,
   "metadata": {
    "collapsed": false
   },
   "outputs": [],
   "source": [
    "params = collections.OrderedDict([('mu_wt', (np.random.uniform, (0, 5))),\n",
    "                                  ('mu_mut', (np.random.uniform, (0, 5))),\n",
    "                                  ('sigma_wt', (np.random.exponential, (0.1,))),\n",
    "                                  ('sigma_mut', (np.random.exponential, (0.1,)))])\n",
    "\n",
    "\n",
    "n_dim = 4        # number of parameters in the model\n",
    "n_walkers = 50   # number of MCMC walkers\n",
    "n_burn = 1000     # \"burn-in\" period to let chains stabilize\n",
    "n_steps = 5000   # number of MCMC steps to take after burn-in\n",
    "\n",
    "\n",
    "p0 = np.empty((n_walkers, n_dim))\n",
    "p0[:,0] = np.random.uniform(0,5, n_walkers)\n",
    "p0[:,1] = np.random.uniform(0,5, n_walkers)    \n",
    "p0[:,2] = np.random.exponential(.1, n_walkers)    \n",
    "p0[:,3] = np.random.exponential(.1, n_walkers) \n",
    "\n",
    "\n",
    "sampler = emcee.EnsembleSampler(n_walkers, n_dim, log_post, \n",
    "                                args=(wt_rest, mut_rest), threads=4)"
   ]
  },
  {
   "cell_type": "code",
   "execution_count": 43,
   "metadata": {
    "collapsed": false
   },
   "outputs": [],
   "source": [
    "# Do burn-in\n",
    "pos, prob, state = sampler.run_mcmc(p0, n_burn, storechain=False)"
   ]
  },
  {
   "cell_type": "code",
   "execution_count": 44,
   "metadata": {
    "collapsed": true
   },
   "outputs": [],
   "source": [
    "# Sample again, starting from end burn-in state\n",
    "_ = sampler.run_mcmc(pos, n_steps)"
   ]
  },
  {
   "cell_type": "code",
   "execution_count": 45,
   "metadata": {
    "collapsed": false
   },
   "outputs": [
    {
     "name": "stdout",
     "output_type": "stream",
     "text": [
      "\n",
      "Most probable parameter values:\n",
      "Wt:   2.214 +/- 0.497\n",
      "Mut:  1.728 +/- 0.766\n",
      "\n"
     ]
    }
   ],
   "source": [
    "# Get the index of the most probable parameter set\n",
    "\n",
    "max_ind = np.argmax(sampler.flatlnprobability)\n",
    "\n",
    "#sampler.flatlnprobability\n",
    "# Pull out values.\n",
    "mu_wt_MAP, mu_mut_MAP, sigma_wt_MAP, sigma_mut_MAP = sampler.flatchain[max_ind,:]\n",
    "\n",
    "# Print the results\n",
    "print(\"\"\"\n",
    "Most probable parameter values:\n",
    "Wt:   {0:.3f} +/- {2:.3f}\n",
    "Mut:  {1:.3f} +/- {3:.3f}\n",
    "\"\"\".format(mu_wt_MAP, mu_mut_MAP, sigma_wt_MAP, sigma_mut_MAP))"
   ]
  },
  {
   "cell_type": "code",
   "execution_count": 46,
   "metadata": {
    "collapsed": false
   },
   "outputs": [
    {
     "name": "stdout",
     "output_type": "stream",
     "text": [
      "\n",
      "Most probable parameter values:\n",
      "δ:   0.486 +/- 0.913\n",
      "\n"
     ]
    }
   ],
   "source": [
    "# If we assume that the measurments are independent, than the difference delta can be expressed as follows\n",
    "# delta_MAP = mu_wt_MAP - mu_mut_MAP\n",
    "# sigma_delta_MAP = np.sqrt((sigma_wt_MAP**2)+(sigma_mut_MAP**2))\n",
    "\n",
    "delta_MAP = mu_wt_MAP - mu_mut_MAP\n",
    "sigma_delta_MAP = np.sqrt((sigma_wt_MAP**2)+(sigma_mut_MAP**2))\n",
    "\n",
    "# Print the results\n",
    "print(\"\"\"\n",
    "Most probable parameter values:\n",
    "δ:   {0:.3f} +/- {1:.3f}\n",
    "\"\"\".format(delta_MAP, sigma_delta_MAP))"
   ]
  },
  {
   "cell_type": "code",
   "execution_count": 47,
   "metadata": {
    "collapsed": true
   },
   "outputs": [],
   "source": [
    "cov_1 = np.cov(sampler.flatchain.T)"
   ]
  },
  {
   "cell_type": "markdown",
   "metadata": {},
   "source": [
    "## Problem 5.1d Hypothesis testing\n",
    "Let $H_0$ be that the wild-type and mutant sleep bout lengths were sampled from the same Gaussian distribution. We want to know the probability of getting a difference between the sample means that is at least as great as the difference between our sample means. To do that, we will combine all of our measurements into one pool, then draw bootstrap samples for wild-type and mutant from that combined pool. \n",
    "\n",
    "We'll also plot a histogram of the sample differences and highlight the ones that are greater than or equal to the actual difference. "
   ]
  },
  {
   "cell_type": "code",
   "execution_count": 48,
   "metadata": {
    "collapsed": false
   },
   "outputs": [],
   "source": [
    "combined = pd.concat([wt, mut])\n",
    "\n",
    "diffs = bootstrap_estimate (combined, n_wt, np.mean, replicates=10000) \\\n",
    "- bootstrap_estimate(mut, n_mut, np.mean, replicates=10000)"
   ]
  },
  {
   "cell_type": "code",
   "execution_count": 49,
   "metadata": {
    "collapsed": false
   },
   "outputs": [
    {
     "name": "stdout",
     "output_type": "stream",
     "text": [
      "p = 0.1247\n"
     ]
    }
   ],
   "source": [
    "actual_diff = x_bar_w - x_bar_m\n",
    "p_value = sum(d >= actual_diff for d in diffs)/len(diffs)\n",
    "print ('p = %.4f' %p_value)"
   ]
  },
  {
   "cell_type": "code",
   "execution_count": 50,
   "metadata": {
    "collapsed": false
   },
   "outputs": [
    {
     "data": {
      "text/plain": [
       "<matplotlib.text.Text at 0x10f17cac8>"
      ]
     },
     "execution_count": 50,
     "metadata": {},
     "output_type": "execute_result"
    },
    {
     "data": {
      "image/png": "[encoded data removed]",
      "text/plain": [
       "<matplotlib.figure.Figure at 0x10f17fda0>"
      ]
     },
     "metadata": {
      "image/png": {
       "height": 380,
       "width": 517
      }
     },
     "output_type": "display_data"
    }
   ],
   "source": [
    "n, bins, patches = plt.hist(diffs, bins=100, normed=True, alpha=0.7)\n",
    "for b, p in zip (bins, patches):\n",
    "    if b < actual_diff:\n",
    "        continue\n",
    "    plt.setp(p, 'facecolor', 'red', alpha=0.7)\n",
    "plt.xlabel ('Bootstrap difference (min)')\n",
    "plt.ylabel ('Probability density')\n",
    "plt.title ('Bootstrap sampling under the null Hypothesis')\n"
   ]
  },
  {
   "cell_type": "markdown",
   "metadata": {
    "collapsed": false
   },
   "source": [
    "# 5e\n",
    "We already have the MAPs and covariance matrix from part c (H1), and it's called cov_1\n",
    "Now we should calculate the MAPs and covariance matrix for H0"
   ]
  },
  {
   "cell_type": "code",
   "execution_count": 51,
   "metadata": {
    "collapsed": true
   },
   "outputs": [],
   "source": [
    "def log_post_0(p, x_0):\n",
    "    \"\"\"\n",
    "    p[0] = mu_0\n",
    "    p[1] = sigma_0\n",
    "    \"\"\"\n",
    "    # Unpack parameters\n",
    "    mu_0, sigma_0= p\n",
    "    \n",
    "    # Make sure we have everything in the right range\n",
    "    if (sigma_0 < 0):\n",
    "        return -np.inf\n",
    "\n",
    "    # Compute separate parts of posterior from each sample\n",
    "    log_post_0 = st.norm.logpdf(x_0, mu_0, sigma_0).sum() - np.log(sigma_0)\n",
    "\n",
    "    # Add them up to return\n",
    "    return log_post_0"
   ]
  },
  {
   "cell_type": "code",
   "execution_count": 52,
   "metadata": {
    "collapsed": false
   },
   "outputs": [],
   "source": [
    "rest = df['mean_rest_bout_length']\n",
    "params = collections.OrderedDict([('mu_0', (np.random.uniform, (0, 5))),\n",
    "                                  ('sigma_0', (np.random.exponential, (0.1,)))])\n",
    "\n",
    "n_dim = 2        # number of parameters in the model\n",
    "n_walkers = 50   # number of MCMC walkers\n",
    "n_burn = 1000     # \"burn-in\" period to let chains stabilize\n",
    "n_steps = 5000   # number of MCMC steps to take after burn-in\n",
    "\n",
    "\n",
    "p0 = np.empty((n_walkers, n_dim))\n",
    "p0[:,0] = np.random.uniform(0,5, n_walkers)  \n",
    "p0[:,1] = np.random.exponential(.1, n_walkers)    \n",
    "\n",
    "\n",
    "sampler = emcee.EnsembleSampler(n_walkers, n_dim, log_post_0, \n",
    "                                args=(rest,), threads=4)"
   ]
  },
  {
   "cell_type": "code",
   "execution_count": 53,
   "metadata": {
    "collapsed": true
   },
   "outputs": [],
   "source": [
    "# Do burn-in\n",
    "pos, prob, state = sampler.run_mcmc(p0, n_burn, storechain=False)"
   ]
  },
  {
   "cell_type": "code",
   "execution_count": 54,
   "metadata": {
    "collapsed": true
   },
   "outputs": [],
   "source": [
    "# Sample again, starting from end burn-in state\n",
    "_ = sampler.run_mcmc(pos, n_steps)"
   ]
  },
  {
   "cell_type": "code",
   "execution_count": 55,
   "metadata": {
    "collapsed": false
   },
   "outputs": [
    {
     "name": "stdout",
     "output_type": "stream",
     "text": [
      "\n",
      "Most probable parameter values:\n",
      "Overall:   1.938 +/- 0.711\n",
      "\n"
     ]
    }
   ],
   "source": [
    "# Get the index of the most probable parameter set\n",
    "\n",
    "max_ind = np.argmax(sampler.flatlnprobability)\n",
    "\n",
    "#sampler.flatlnprobability\n",
    "# Pull out values.\n",
    "mu_0_MAP, sigma_0_MAP= sampler.flatchain[max_ind,:]\n",
    "\n",
    "# Print the results\n",
    "print(\"\"\"\n",
    "Most probable parameter values:\n",
    "Overall:   {0:.3f} +/- {1:.3f}\n",
    "\"\"\".format(mu_0_MAP, sigma_0_MAP))"
   ]
  },
  {
   "cell_type": "code",
   "execution_count": 56,
   "metadata": {
    "collapsed": true
   },
   "outputs": [],
   "source": [
    "cov_0 = np.cov(sampler.flatchain.T)"
   ]
  },
  {
   "cell_type": "markdown",
   "metadata": {
    "collapsed": true
   },
   "source": [
    "We now have the MAPs and covariance matrices for both models\n",
    "\n",
    "Given that we want to calculate\n",
    "\\begin{align}\n",
    "O_{01} = \\frac{P(H_0\\mid D, I)}{P(H_1\\mid D, I)}.\n",
    "\\end{align}\n",
    "Each piece, H0, and H1 can be expressed as\n",
    "\\begin{align}\n",
    "P(H_i\\mid D, I) = \\frac{P(H_i\\mid I) P(D\\mid H_i, I)}{P(D\\mid I)}.\n",
    "\\end{align}\n",
    "This means that the odds ratio can be expressed as\n",
    "\\begin{align}\n",
    "O_{01} = \\frac{P(H_0\\mid I) P(D\\mid H_0, I)}{P(H_1\\mid I) P(D\\mid H_1, I)}.\n",
    "\\end{align}\n",
    "Following the same simplifications used in Tutorial 5a,\n",
    "\\begin{align}\n",
    "O_{01} = \\frac{P(D\\mid H_0, I)}{P(D\\mid H_1, I)}.\n",
    "\\end{align}\n",
    "\n",
    "This is just the ratio of the two likelihoods.\n",
    "So now we need to calculate the likelihoods for H0 and H1\n",
    "\n",
    "For a single parameter of repeated measurements, likelihood can be expressed as\n",
    "\\begin{align}\n",
    "P(D \\mid \\mu, \\sigma, I) = \\prod_{i\\in d} \\frac{1}{\\sqrt{2\\pi\\sigma^2}}\\,\n",
    "\\exp\\left[-\\frac{(x_i - \\mu)^2}{2\\sigma^2}\\right].\n",
    "\\end{align}\n",
    "\n",
    "We can use this for all of our likelihoods, and just consider the likelihood of H1 as the product of two likelihoods, treating the wt and mut seperately."
   ]
  },
  {
   "cell_type": "code",
   "execution_count": 57,
   "metadata": {
    "collapsed": true
   },
   "outputs": [],
   "source": [
    "#Likelihood function\n",
    "def likelihood(dataset, mu, sigma):\n",
    "    p = 1\n",
    "    dataset_list = dataset.tolist()\n",
    "    range_list = len(dataset_list)\n",
    "    for q in range(range_list):\n",
    "        p = p* ((1/np.sqrt(2*np.pi*(sigma**2)))*np.exp(((-dataset_list[q]-mu)**2)/(2*(sigma**2))))\n",
    "    return p"
   ]
  },
  {
   "cell_type": "code",
   "execution_count": 66,
   "metadata": {
    "collapsed": false
   },
   "outputs": [
    {
     "data": {
      "text/plain": [
       "3.1778348282188058e-141"
      ]
     },
     "execution_count": 66,
     "metadata": {},
     "output_type": "execute_result"
    }
   ],
   "source": [
    "#mu_mut_MAP, , sigma_mut_MAP \n",
    "wt_likely = likelihood(wt_rest, mu_wt_MAP, sigma_wt_MAP)\n",
    "mut_likely = likelihood(mut_rest, mu_mut_MAP, sigma_mut_MAP)\n",
    "\n",
    "\n",
    "H0_likely = likelihood(rest, mu_0_MAP, sigma_0_MAP)\n",
    "\n",
    "oddsratio = (H0_likely/wt_likely) /mut_likely\n",
    "\n",
    "# the odds ratio for H0/H1 is\n",
    "oddsratio"
   ]
  },
  {
   "cell_type": "code",
   "execution_count": null,
   "metadata": {
    "collapsed": true
   },
   "outputs": [],
   "source": []
  }
 ],
 "metadata": {
  "kernelspec": {
   "display_name": "Python 3",
   "language": "python",
   "name": "python3"
  },
  "language_info": {
   "codemirror_mode": {
    "name": "ipython",
    "version": 3
   },
   "file_extension": ".py",
   "mimetype": "text/x-python",
   "name": "python",
   "nbconvert_exporter": "python",
   "pygments_lexer": "ipython3",
   "version": "3.4.3"
  }
 },
 "nbformat": 4,
 "nbformat_minor": 0
}
