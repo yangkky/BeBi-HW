{
 "cells": [
  {
   "cell_type": "code",
   "execution_count": 141,
   "metadata": {
    "collapsed": true
   },
   "outputs": [],
   "source": [
    "# Our numerical workhorse\n",
    "import numpy as np\n",
    "import scipy.special\n",
    "import pandas as pd\n",
    "from scipy.stats import pearsonr\n",
    "from bebi103 import bokeh_matplot\n",
    "\n",
    "# Import pyplot for plotting\n",
    "import matplotlib.pyplot as plt\n",
    "from mpl_toolkits.mplot3d.axes3d import Axes3D\n",
    "\n",
    "# Import Bokeh modules for interactive plotting\n",
    "import bokeh.charts\n",
    "import bokeh.charts.utils\n",
    "import bokeh.io\n",
    "import bokeh.models\n",
    "import bokeh.palettes\n",
    "import bokeh.plotting\n",
    "\n",
    "# Beeswarm plots\n",
    "import beeswarm as bs\n",
    "\n",
    "# Seaborn, useful for graphics\n",
    "import seaborn as sns\n",
    "\n",
    "# Magic function to make matplotlib inline; other style specs must come AFTER\n",
    "%matplotlib inline\n",
    "\n",
    "# This enables high res graphics inline (only use with static plots (non-Bokeh))\n",
    "# SVG is preferred, but there is a bug in Jupyter with vertical lines\n",
    "%config InlineBackend.figure_formats = {'png', 'retina'}\n",
    "\n",
    "# JB's favorite Seaborn settings for notebooks\n",
    "rc = {'lines.linewidth': 2, \n",
    "      'axes.labelsize': 18, \n",
    "      'axes.titlesize': 18, \n",
    "      'axes.facecolor': 'DFDFE5'}\n",
    "sns.set_context('notebook', rc=rc)\n",
    "sns.set_style('darkgrid', rc=rc)"
   ]
  },
  {
   "cell_type": "code",
   "execution_count": 142,
   "metadata": {
    "collapsed": true
   },
   "outputs": [],
   "source": [
    "# read in the mappings and turn them into helpful dicts\n",
    "region_df = pd.read_csv('data/SUB01_region.csv',comment='#',header=None)\n",
    "region_df.columns = ['region_ID']\n",
    "key_df = pd.read_csv('data/regionkey.csv',comment='#', header=None)\n",
    "key_df.columns = ['region_ID','region']\n",
    "region_dict = {i:r for i,r in zip(region_df.index,region_df['region_ID'])}\n",
    "key_dict = {ID:r for ID,r in zip(key_df['region_ID'],key_df['region'])}\n",
    "\n",
    "def do_all (df):\n",
    "    \"\"\"\n",
    "    Make the bokeh plot\n",
    "    \"\"\"\n",
    "    #first, tidy the df\n",
    "    # we need rows as a column before melting\n",
    "    df['row'] = df.index\n",
    "    # after melting, each row contains the original row, the time, and the value\n",
    "    melted_df = pd.melt(df,id_vars='row')\n",
    "    # rename the columns\n",
    "    melted_df.columns = ['row','time (s)','value']\n",
    "    # use the dicts to add the region_IDs and then the regions\n",
    "    melted_df['region_ID'] = [region_dict[row] for row in melted_df['row']]\n",
    "    melted_df['region'] = [key_dict[ID] for ID in melted_df['region_ID']]\n",
    "    # calculate the grouped means\n",
    "    grouped_means = melted_df.groupby(['region','time (s)'])['value'].mean()\n",
    "    # get all the regions, loop through, and make the correlation matrix\n",
    "    regions = [key_dict[k] for k in key_dict.keys()]\n",
    "    n = len(regions)\n",
    "    correls = []\n",
    "    for i,r1 in enumerate(regions):\n",
    "        for j,r2 in enumerate(regions):\n",
    "            correls.append([i,j,pearsonr(grouped_means[r1],grouped_means[r2])[0]])\n",
    "    correls = pd.DataFrame(correls, columns = ['i','j','value'])\n",
    "    # plot\n",
    "    bokeh.plotting.output_file('test_matplot.html')\n",
    "    p = bokeh_matplot(correls, 'i', 'j', 'value', n_colors=21,\n",
    "                      colormap='RdBu_r', plot_width=500,\n",
    "                      plot_height=500)\n",
    "    bokeh.io.show(p)"
   ]
  },
  {
   "cell_type": "code",
   "execution_count": 60,
   "metadata": {
    "collapsed": false
   },
   "outputs": [],
   "source": [
    "df = pd.read_csv('data/SUB01_data.csv',comment='#',header=None)"
   ]
  },
  {
   "cell_type": "code",
   "execution_count": 143,
   "metadata": {
    "collapsed": true
   },
   "outputs": [],
   "source": [
    "do_all(df)"
   ]
  },
  {
   "cell_type": "markdown",
   "metadata": {},
   "source": [
    "With the regions in no particular order, it's difficult to discern any sort of pattern. There seem to be more positive correlations than negative ones. "
   ]
  },
  {
   "cell_type": "code",
   "execution_count": 144,
   "metadata": {
    "collapsed": true
   },
   "outputs": [],
   "source": [
    "messy_df = pd.read_csv('data/SUB01_uncleaned_data.csv',comment='#',header=None)"
   ]
  },
  {
   "cell_type": "code",
   "execution_count": 145,
   "metadata": {
    "collapsed": true
   },
   "outputs": [],
   "source": [
    "do_all(messy_df)"
   ]
  },
  {
   "cell_type": "markdown",
   "metadata": {},
   "source": [
    "This matrix seems to have many more strong positive correlations than the previous one. There are also a few outlier regions that seem to be negatively correlated with almost all other regions. "
   ]
  },
  {
   "cell_type": "markdown",
   "metadata": {},
   "source": [
    "With time series data, there can be underlying processes that cause all of the data to be correlated. The regions could all be linked by some underlying, time-dependent, process. "
   ]
  },
  {
   "cell_type": "code",
   "execution_count": null,
   "metadata": {
    "collapsed": true
   },
   "outputs": [],
   "source": []
  }
 ],
 "metadata": {
  "kernelspec": {
   "display_name": "Python 3",
   "language": "python",
   "name": "python3"
  },
  "language_info": {
   "codemirror_mode": {
    "name": "ipython",
    "version": 3
   },
   "file_extension": ".py",
   "mimetype": "text/x-python",
   "name": "python",
   "nbconvert_exporter": "python",
   "pygments_lexer": "ipython3",
   "version": "3.4.3"
  }
 },
 "nbformat": 4,
 "nbformat_minor": 0
}
