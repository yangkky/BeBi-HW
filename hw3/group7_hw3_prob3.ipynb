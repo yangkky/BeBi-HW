{
 "cells": [
  {
   "cell_type": "code",
   "execution_count": 1,
   "metadata": {
    "collapsed": true
   },
   "outputs": [],
   "source": [
    "# Our numerical workhorse\n",
    "import numpy as np\n",
    "import scipy.special\n",
    "import pandas as pd\n",
    "\n",
    "# Import pyplot for plotting\n",
    "import matplotlib.pyplot as plt\n",
    "from mpl_toolkits.mplot3d.axes3d import Axes3D\n",
    "\n",
    "# Import Bokeh modules for interactive plotting\n",
    "import bokeh.charts\n",
    "import bokeh.charts.utils\n",
    "import bokeh.io\n",
    "import bokeh.models\n",
    "import bokeh.palettes\n",
    "import bokeh.plotting\n",
    "\n",
    "# Beeswarm plots\n",
    "import beeswarm as bs\n",
    "\n",
    "# Seaborn, useful for graphics\n",
    "import seaborn as sns\n",
    "\n",
    "# Magic function to make matplotlib inline; other style specs must come AFTER\n",
    "%matplotlib inline\n",
    "\n",
    "# This enables high res graphics inline (only use with static plots (non-Bokeh))\n",
    "# SVG is preferred, but there is a bug in Jupyter with vertical lines\n",
    "%config InlineBackend.figure_formats = {'png', 'retina'}\n",
    "\n",
    "# JB's favorite Seaborn settings for notebooks\n",
    "rc = {'lines.linewidth': 2, \n",
    "      'axes.labelsize': 18, \n",
    "      'axes.titlesize': 18, \n",
    "      'axes.facecolor': 'DFDFE5'}\n",
    "sns.set_context('notebook', rc=rc)\n",
    "sns.set_style('darkgrid', rc=rc)"
   ]
  },
  {
   "cell_type": "code",
   "execution_count": 9,
   "metadata": {
    "collapsed": false
   },
   "outputs": [
    {
     "name": "stdout",
     "output_type": "stream",
     "text": [
      "    Days after administration  RNA copies per mL\n",
      "0                      0.0000           106100.0\n",
      "1                      0.0831            93240.0\n",
      "2                      0.1465           166720.0\n",
      "3                      0.2587           153780.0\n",
      "4                      0.4828           118800.0\n",
      "5                      0.7448           116900.0\n",
      "6                      0.9817           109570.0\n",
      "7                      1.2563           111350.0\n",
      "8                      1.4926            74388.0\n",
      "9                      1.7299            83291.0\n",
      "10                     1.9915            66435.0\n",
      "11                     3.0011            35408.0\n",
      "12                     4.0109            21125.0\n",
      "13                     5.0090            20450.0\n",
      "14                     5.9943            15798.0\n",
      "15                     7.0028             4785.2\n"
     ]
    }
   ],
   "source": [
    "# let's load the data\n",
    "df = pd.read_csv('data/hiv_data.csv',comment='#')\n",
    "print (df)"
   ]
  },
  {
   "cell_type": "markdown",
   "metadata": {},
   "source": [
    "## Problem 3.3a: Regression\n",
    "\n",
    "According to the problem statement, the viral load $V(t)$ can be modeled as \n",
    "\n",
    "$$V(t,c,\\delta)=V_0e^{−ct}+\\frac{cV_0}{c−δ}\\left[\\frac{c}{c−δ}(e^{−δt}−e^{−ct})−δte^{−ct}\\right]$$\n",
    "\n",
    "Where $V_0$ is the initial viral load, $t$ is the time, $\\delta$ is the rate at which infected cells die, and $c$ is the rate at which viruses are cleared by the drug. Assuming that the RNA copies per mL is proportional to the viral load, we can perform Bayesian regression. \n",
    "\n",
    "As always, we start with Bayes' Theorem:\n",
    "\n",
    "$$P(\\mathbf{p}|D,I) = \\frac{P(D|\\mathbf{p},I)P(\\mathbf{p}|I)}{P(D|I)}$$\n",
    "\n",
    "If we assume that each measurement in $D$ has an identically and Gaussian-distributed error with variance $\\sigma^2$ and mean given by the model, then the likelihood is defined as:\n",
    "\n",
    "$$P(D|\\delta,c,\\sigma,I) = \\prod \\frac{1}{\\sqrt{2\\pi\\sigma^2}}\\text{exp}\\left[\\frac{-\\left(V(t)-V(t,c,\\delta)\\right)^2}{2\\sigma^2}\\right]$$\n",
    "\n",
    "The log likelihood is then:\n",
    "\n",
    "$$ \\text{log}P(D|\\delta,c,\\sigma,I) = \\sum \\text{log}\\frac{1}{\\sqrt{2\\pi\\sigma^2}} + \\sum \\left[\\frac{-\\left(V(t)-V(t,c,\\delta)\\right)^2}{2\\sigma^2}\\right]$$\n",
    "\n",
    "To compute the posterior, we can assume uniform priors for $c$ and $\\delta$ and a Jeffrey's prior for $\\sigma$ so that the posterior is:\n",
    "\n",
    "$$P(c,\\delta,\\sigma|D,I) \\propto \\frac{1}{\\sigma^{n+1}}\\text{exp}\\left[-\\frac{1}{2\\sigma^2}\\sum\\left(V(t)-V(t,c,\\delta)\\right)^ 2\\right]$$\n",
    "\n",
    "We don't care about the distribution for $\\sigma$, so we can marginalize it to arrive at an (unnormalized) Student-T distribution for the posterior over $c$ and $\\delta$. \n",
    "\n",
    "$$P(c,\\delta|D,I) \\propto \\left[\\sum(V(t)-V(t,c,\\delta))\\right]^{-\\frac{n}{2}}$$"
   ]
  },
  {
   "cell_type": "code",
   "execution_count": 10,
   "metadata": {
    "collapsed": true
   },
   "outputs": [],
   "source": [
    "def V (p,V0,t):\n",
    "    \"\"\"\n",
    "    Calculate V(t,c,delta)\n",
    "    \"\"\"\n",
    "    c, delta = p\n",
    "    return V0*np.exp(-c*t) + c*V0/((c-delta)*c/(c-delta)*(np.exp(-delta*t) - np.exi(-c*t)) - delta*t*np.exp(-c*t))\n",
    "\n",
    "def "
   ]
  },
  {
   "cell_type": "code",
   "execution_count": null,
   "metadata": {
    "collapsed": true
   },
   "outputs": [],
   "source": []
  }
 ],
 "metadata": {
  "kernelspec": {
   "display_name": "Python 3",
   "language": "python",
   "name": "python3"
  },
  "language_info": {
   "codemirror_mode": {
    "name": "ipython",
    "version": 3
   },
   "file_extension": ".py",
   "mimetype": "text/x-python",
   "name": "python",
   "nbconvert_exporter": "python",
   "pygments_lexer": "ipython3",
   "version": "3.4.3"
  }
 },
 "nbformat": 4,
 "nbformat_minor": 0
}
