{
 "cells": [
  {
   "cell_type": "code",
   "execution_count": null,
   "metadata": {
    "collapsed": true
   },
   "outputs": [],
   "source": [
    "# Our numerical workhorse\n",
    "import numpy as np\n",
    "import scipy.special\n",
    "import pandas as pd\n",
    "\n",
    "# Import pyplot for plotting\n",
    "import matplotlib.pyplot as plt\n",
    "from mpl_toolkits.mplot3d.axes3d import Axes3D\n",
    "\n",
    "# Import Bokeh modules for interactive plotting\n",
    "import bokeh.charts\n",
    "import bokeh.charts.utils\n",
    "import bokeh.io\n",
    "import bokeh.models\n",
    "import bokeh.palettes\n",
    "import bokeh.plotting\n",
    "\n",
    "# Beeswarm plots\n",
    "import beeswarm as bs\n",
    "\n",
    "# Seaborn, useful for graphics\n",
    "import seaborn as sns\n",
    "\n",
    "# Magic function to make matplotlib inline; other style specs must come AFTER\n",
    "%matplotlib inline\n",
    "\n",
    "# This enables high res graphics inline (only use with static plots (non-Bokeh))\n",
    "# SVG is preferred, but there is a bug in Jupyter with vertical lines\n",
    "%config InlineBackend.figure_formats = {'png', 'retina'}\n",
    "\n",
    "# JB's favorite Seaborn settings for notebooks\n",
    "rc = {'lines.linewidth': 2, \n",
    "      'axes.labelsize': 18, \n",
    "      'axes.titlesize': 18, \n",
    "      'axes.facecolor': 'DFDFE5'}\n",
    "sns.set_context('notebook', rc=rc)\n",
    "sns.set_style('darkgrid', rc=rc)"
   ]
  },
  {
   "cell_type": "code",
   "execution_count": null,
   "metadata": {
    "collapsed": false
   },
   "outputs": [],
   "source": [
    "# load the data\n",
    "df_aer = pd.read_csv('data/chure/20151001_aerobic_mean_intensities.csv', delimiter=',', comment='#')\n",
    "df_anaer = pd.read_csv('data/chure/20151001_aerobic_mean_intensities.csv', delimiter=',', comment='#')\n",
    "\n",
    "#take a look at the data\n",
    "df_aer.head()"
   ]
  },
  {
   "cell_type": "code",
   "execution_count": null,
   "metadata": {
    "collapsed": false
   },
   "outputs": [],
   "source": [
    "df_anaer.head()"
   ]
  },
  {
   "cell_type": "code",
   "execution_count": null,
   "metadata": {
    "collapsed": false
   },
   "outputs": [],
   "source": [
    "# Tidy data\n",
    "df_aer.columns = (0, 1e1, 1e2, 1e3, 1e4, 1e5)\n",
    "df_aer = pd.melt(df_aer, var_name='plasmids/cell', value_name='mean pixel intensity').dropna()\n",
    "df_aer['aerobic'] = True\n",
    "\n",
    "df_anaer.columns = (0, 1e1, 1e2, 1e3, 1e4, 1e5)\n",
    "df_anaer = pd.melt(df_anaer, var_name='plasmids/cell', value_name='mean pixel intensity').dropna()\n",
    "df_anaer['aerobic'] = False\n",
    "\n",
    "df = df_aer\n",
    "df = df.append(df_anaer)"
   ]
  },
  {
   "cell_type": "code",
   "execution_count": null,
   "metadata": {
    "collapsed": false
   },
   "outputs": [],
   "source": [
    "# Check that we appended properly\n",
    "df[df.aerobic==False].head()"
   ]
  },
  {
   "cell_type": "code",
   "execution_count": null,
   "metadata": {
    "collapsed": false
   },
   "outputs": [],
   "source": [
    "# Initial plots to get an idea what data looks like\n",
    "data_to_plot = [df['mean pixel intensity'][(df.aerobic==False) & (df['plasmids/cell']==0)],\n",
    "                df['mean pixel intensity'][(df.aerobic==False) & (df['plasmids/cell']==1e1)],\n",
    "                df['mean pixel intensity'][(df.aerobic==False) & (df['plasmids/cell']==1e2)],\n",
    "                df['mean pixel intensity'][(df.aerobic==False) & (df['plasmids/cell']==1e3)],\n",
    "                df['mean pixel intensity'][(df.aerobic==False) & (df['plasmids/cell']==1e4)],\n",
    "                df['mean pixel intensity'][(df.aerobic==False) & (df['plasmids/cell']==1e5)],]\n",
    "plt.boxplot(data_to_plot)\n",
    "plt.ylim((0, 600))"
   ]
  },
  {
   "cell_type": "code",
   "execution_count": null,
   "metadata": {
    "collapsed": true
   },
   "outputs": [],
   "source": [
    "# plt.scatter(df['mean pixel intensity'])"
   ]
  },
  {
   "cell_type": "code",
   "execution_count": null,
   "metadata": {
    "collapsed": true
   },
   "outputs": [],
   "source": [
    "# _ = bs.beeswarm(data_to_plot)\n",
    "# plt.grid(axis='x')\n",
    "# plt.ylabel('$N_A$ (min)')\n",
    "# plt.ylim((0, 60))"
   ]
  },
  {
   "cell_type": "markdown",
   "metadata": {},
   "source": [
    "Problem 3.1a\n",
    "For each data set, compute the number of of transformed cells. You will have to decide on a criterion for what constitutes a transformed cell. Comment on how you decided on this criterion.\n",
    "We have two options:\n",
    "* A cell is transformed when it has an altered phenotype.\n",
    "* A cell is transformed when it has an altered genotype.\n",
    "In my opinion, it makes most biological sense for us to define a cell as transformed when its phenotype is altered at least one plasmid. We see from the initial plot of the data that the cells only really start to change phenotype (expressing enough YFP to change the mean pixel intensity) after $~10^4$ plasmids are introduced into the cell. However, if the cell has accepted at least one plasmid "
   ]
  },
  {
   "cell_type": "code",
   "execution_count": null,
   "metadata": {
    "collapsed": true
   },
   "outputs": [],
   "source": []
  }
 ],
 "metadata": {
  "kernelspec": {
   "display_name": "Python 3",
   "language": "python",
   "name": "python3"
  },
  "language_info": {
   "codemirror_mode": {
    "name": "ipython",
    "version": 3
   },
   "file_extension": ".py",
   "mimetype": "text/x-python",
   "name": "python",
   "nbconvert_exporter": "python",
   "pygments_lexer": "ipython3",
   "version": "3.4.3"
  }
 },
 "nbformat": 4,
 "nbformat_minor": 0
}
