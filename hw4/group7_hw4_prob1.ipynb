{
 "cells": [
  {
   "cell_type": "code",
   "execution_count": 2,
   "metadata": {
    "collapsed": true
   },
   "outputs": [],
   "source": [
    "import collections\n",
    "import itertools\n",
    "\n",
    "# Our numerical workhorses\n",
    "import numpy as np\n",
    "import pandas as pd\n",
    "import scipy.optimize\n",
    "import scipy.stats as st\n",
    "\n",
    "# Numerical differentiation packages\n",
    "import numdifftools as ndt\n",
    "\n",
    "# Our main MCMC package\n",
    "import emcee\n",
    "\n",
    "# Import pyplot for plotting\n",
    "import matplotlib.pyplot as plt\n",
    "\n",
    "# Seaborn, useful for graphics\n",
    "import seaborn as sns\n",
    "\n",
    "# Corner is useful for displaying MCMC results\n",
    "import corner\n",
    "\n",
    "# Magic function to make matplotlib inline; other style specs must come AFTER\n",
    "%matplotlib inline\n",
    "\n",
    "# This enables high res graphics inline (only use with static plots (non-Bokeh))\n",
    "# SVG is preferred, but there is a bug in Jupyter with vertical lines\n",
    "%config InlineBackend.figure_formats = {'png', 'retina'}\n",
    "\n",
    "# JB's favorite Seaborn settings for notebooks\n",
    "rc = {'lines.linewidth': 2, \n",
    "      'axes.labelsize': 18, \n",
    "      'axes.titlesize': 18, \n",
    "      'axes.facecolor': 'DFDFE5'}\n",
    "sns.set_context('notebook', rc=rc)\n",
    "sns.set_style('darkgrid', rc=rc)"
   ]
  },
  {
   "cell_type": "markdown",
   "metadata": {},
   "source": [
    "## 1A\n",
    "Reversal in worms"
   ]
  },
  {
   "cell_type": "code",
   "execution_count": null,
   "metadata": {
    "collapsed": false
   },
   "outputs": [],
   "source": [
    "# Load DataFrame\n",
    "df = pd.read_csv('data/bi1x_2015_c_elegans_optogenetics.csv',\n",
    "                comment='#')\n",
    "df = pd.melt(df, id_vars=['Group', 'Worm'], value_vars=['WT', 'AVA', 'ASH'], \n",
    "             value_name='reversal', var_name='strain')\n"
   ]
  },
  {
   "cell_type": "code",
   "execution_count": null,
   "metadata": {
    "collapsed": false
   },
   "outputs": [],
   "source": [
    "def revs_trials(df, strain):\n",
    "    \"\"\"\n",
    "    Return number of reversals and number of trials.\n",
    "    \"\"\"\n",
    "    inds = (df['strain'] == strain) & (df['reversal'] >= 0)\n",
    "    n_r = df[inds]['reversal'].sum()\n",
    "    n = df[inds]['reversal'].count()\n",
    "    \n",
    "    return n_r, n\n",
    "\n",
    "def log_posterior(p, n_r, n):\n",
    "    \"\"\"\n",
    "    Log posterior of reversal measurements.\n",
    "    \"\"\"\n",
    "\n",
    "    # Zero probability of having p < 0 or p > 1\n",
    "    if p < 0 or p > 1:\n",
    "        return -np.inf\n",
    "    \n",
    "    return st.nbinom.logpmf(n_r, n, p).sum()\n",
    "\n",
    "\n",
    "\n",
    "\n",
    "    \n"
   ]
  },
  {
   "cell_type": "code",
   "execution_count": null,
   "metadata": {
    "collapsed": false
   },
   "outputs": [],
   "source": [
    "n_dim = 1        # number of parameters in the model (just p)\n",
    "n_walkers = 50   # number of MCMC walkers\n",
    "n_burn = 1000     # \"burn-in\" period to let chains stabilize\n",
    "n_steps = 5000   # number of MCMC steps to take after burn-in\n",
    "\n",
    "\n",
    "n_r, n = revs_trials(df, 'AVA')\n",
    "p0 = np.empty((n_walkers, n_dim))\n",
    "p0[:,0] = np.random.uniform(0,1, n_walkers)             # AVA\n",
    "#p0[:,1] = np.random.uniform(0, 1, n_walkers)             # ASH\n",
    "\n",
    "sampler = emcee.EnsembleSampler(n_walkers, n_dim, log_posterior, \n",
    "                                args=(n,n_r), threads=4)\n",
    "\n",
    "# Do burn-in\n",
    "pos, prob, state = sampler.run_mcmc(p0, n_burn, storechain=False)"
   ]
  },
  {
   "cell_type": "code",
   "execution_count": null,
   "metadata": {
    "collapsed": false
   },
   "outputs": [],
   "source": [
    "#actually do MCMC\n",
    "# Sample again, starting from end burn-in state\n",
    "_ = sampler.run_mcmc(pos, n_steps)"
   ]
  },
  {
   "cell_type": "code",
   "execution_count": null,
   "metadata": {
    "collapsed": false
   },
   "outputs": [],
   "source": [
    "\n",
    "# Get the index of the most probable parameter\n",
    "max_ind = np.argmax(sampler.flatlnprobability)\n",
    "#max_ind\n",
    "\n",
    "# Pull out values.\n",
    "AVA_MAP = sampler.flatchain[max_ind]\n",
    "AVA_MAP\n",
    "# Print the results\n",
    "#print(\"\"\"\n",
    "#Most probable parameter value:\n",
    "#p: {1:.1f}\n",
    "#\"\"\".format(p_MAP))"
   ]
  },
  {
   "cell_type": "code",
   "execution_count": null,
   "metadata": {
    "collapsed": true
   },
   "outputs": [],
   "source": [
    "n_dim = 1        # number of parameters in the model (n_r and p)\n",
    "n_walkers = 50   # number of MCMC walkers\n",
    "n_burn = 1000     # \"burn-in\" period to let chains stabilize\n",
    "n_steps = 5000   # number of MCMC steps to take after burn-in\n",
    "\n",
    "n_r, n = revs_trials(df, 'ASH')\n",
    "p0 = np.empty((n_walkers, n_dim))\n",
    "\n",
    "\n",
    "p0[:,0] = np.random.uniform(0,1, n_walkers)             # ASH\n",
    "\n",
    "\n",
    "sampler = emcee.EnsembleSampler(n_walkers, n_dim, log_posterior, \n",
    "                                 args=(n,n_r), threads=4)\n",
    "\n",
    "# Do burn-in\n",
    "pos, prob, state = sampler.run_mcmc(p0, n_burn, storechain=False)"
   ]
  },
  {
   "cell_type": "code",
   "execution_count": null,
   "metadata": {
    "collapsed": true
   },
   "outputs": [],
   "source": [
    "#actually do MCMC\n",
    "# Sample again, starting from end burn-in state\n",
    "_ = sampler.run_mcmc(pos, n_steps)"
   ]
  },
  {
   "cell_type": "code",
   "execution_count": null,
   "metadata": {
    "collapsed": false
   },
   "outputs": [],
   "source": [
    "# Get the index of the most probable parameter\n",
    "max_ind = np.argmax(sampler.flatlnprobability)\n",
    "#max_ind\n",
    "\n",
    "# Pull out values.\n",
    "ASH_MAP = sampler.flatchain[max_ind]\n",
    "ASH_MAP"
   ]
  },
  {
   "cell_type": "code",
   "execution_count": null,
   "metadata": {
    "collapsed": false
   },
   "outputs": [],
   "source": [
    "AVA_MAP-ASH_MAP"
   ]
  },
  {
   "cell_type": "markdown",
   "metadata": {},
   "source": [
    "## 1B\n",
    "Dorsal gradients in wt vs venus fusion"
   ]
  },
  {
   "cell_type": "code",
   "execution_count": 3,
   "metadata": {
    "collapsed": false
   },
   "outputs": [
    {
     "data": {
      "text/html": [
       "<div>\n",
       "<table border=\"1\" class=\"dataframe\">\n",
       "  <thead>\n",
       "    <tr>\n",
       "      <th></th>\n",
       "      <th colspan=\"2\" halign=\"left\">wt</th>\n",
       "      <th colspan=\"3\" halign=\"left\">dl1/+; dl-venus/+</th>\n",
       "      <th colspan=\"3\" halign=\"left\">dl1/+; dl-gfp/+</th>\n",
       "    </tr>\n",
       "    <tr>\n",
       "      <th></th>\n",
       "      <th>wholemounts</th>\n",
       "      <th>cross-sections</th>\n",
       "      <th>anti-Dorsal</th>\n",
       "      <th>anti-Venus</th>\n",
       "      <th>Venus (live)</th>\n",
       "      <th>anti-Dorsal</th>\n",
       "      <th>anti-GFP</th>\n",
       "      <th>GFP (live)</th>\n",
       "    </tr>\n",
       "  </thead>\n",
       "  <tbody>\n",
       "    <tr>\n",
       "      <th>0</th>\n",
       "      <td>0.1288</td>\n",
       "      <td>0.1327</td>\n",
       "      <td>0.1482</td>\n",
       "      <td>0.1632</td>\n",
       "      <td>0.1666</td>\n",
       "      <td>0.2248</td>\n",
       "      <td>0.2389</td>\n",
       "      <td>0.2412</td>\n",
       "    </tr>\n",
       "    <tr>\n",
       "      <th>1</th>\n",
       "      <td>0.1554</td>\n",
       "      <td>0.1457</td>\n",
       "      <td>0.1503</td>\n",
       "      <td>0.1671</td>\n",
       "      <td>0.1753</td>\n",
       "      <td>0.1891</td>\n",
       "      <td>0.2035</td>\n",
       "      <td>0.1942</td>\n",
       "    </tr>\n",
       "    <tr>\n",
       "      <th>2</th>\n",
       "      <td>0.1306</td>\n",
       "      <td>0.1447</td>\n",
       "      <td>0.1577</td>\n",
       "      <td>0.1704</td>\n",
       "      <td>0.1705</td>\n",
       "      <td>0.1705</td>\n",
       "      <td>0.1943</td>\n",
       "      <td>0.2186</td>\n",
       "    </tr>\n",
       "    <tr>\n",
       "      <th>3</th>\n",
       "      <td>0.1413</td>\n",
       "      <td>0.1282</td>\n",
       "      <td>0.1711</td>\n",
       "      <td>0.1779</td>\n",
       "      <td>NaN</td>\n",
       "      <td>0.1735</td>\n",
       "      <td>0.2000</td>\n",
       "      <td>0.2104</td>\n",
       "    </tr>\n",
       "    <tr>\n",
       "      <th>4</th>\n",
       "      <td>0.1557</td>\n",
       "      <td>0.1487</td>\n",
       "      <td>0.1342</td>\n",
       "      <td>0.1483</td>\n",
       "      <td>NaN</td>\n",
       "      <td>0.2135</td>\n",
       "      <td>0.2560</td>\n",
       "      <td>0.2463</td>\n",
       "    </tr>\n",
       "  </tbody>\n",
       "</table>\n",
       "</div>"
      ],
      "text/plain": [
       "           wt                dl1/+; dl-venus/+                          \\\n",
       "  wholemounts cross-sections       anti-Dorsal anti-Venus Venus (live)   \n",
       "0      0.1288         0.1327            0.1482     0.1632       0.1666   \n",
       "1      0.1554         0.1457            0.1503     0.1671       0.1753   \n",
       "2      0.1306         0.1447            0.1577     0.1704       0.1705   \n",
       "3      0.1413         0.1282            0.1711     0.1779          NaN   \n",
       "4      0.1557         0.1487            0.1342     0.1483          NaN   \n",
       "\n",
       "  dl1/+; dl-gfp/+                      \n",
       "      anti-Dorsal anti-GFP GFP (live)  \n",
       "0          0.2248   0.2389     0.2412  \n",
       "1          0.1891   0.2035     0.1942  \n",
       "2          0.1705   0.1943     0.2186  \n",
       "3          0.1735   0.2000     0.2104  \n",
       "4          0.2135   0.2560     0.2463  "
      ]
     },
     "execution_count": 3,
     "metadata": {},
     "output_type": "execute_result"
    }
   ],
   "source": [
    "# Load data\n",
    "df = pd.read_csv('data/reeves_gradient_width_various_methods.csv', comment='#',header=[0,1])\n",
    "\n",
    "# Check it out\n",
    "df.head()"
   ]
  },
  {
   "cell_type": "code",
   "execution_count": 4,
   "metadata": {
    "collapsed": false
   },
   "outputs": [],
   "source": [
    "crosssection= df['wt']['cross-sections'].dropna()\n",
    "venus_dorsal= df['dl1/+; dl-venus/+']['anti-Dorsal'].dropna()"
   ]
  },
  {
   "cell_type": "markdown",
   "metadata": {},
   "source": [
    "# If we assume that the two distributions are independent,\n",
    "From equation 3.87a in Sivia, the posterior should be the following\n",
    "where z is the differnce in the spread between to two distributions\n",
    "\n",
    "\\begin{align}\n",
    "P(Z, \\mid D, I) = \\frac{1}{\\sigma_z \\sqrt{2 \\pi}}\n",
    "\\exp [-\\frac{(Z-z_o)^2}{2\\sigma_z^2}]\n",
    "\\end{align}\n",
    "\n",
    "\n",
    "\n",
    "\n",
    "    \n"
   ]
  },
  {
   "cell_type": "code",
   "execution_count": 54,
   "metadata": {
    "collapsed": false
   },
   "outputs": [],
   "source": [
    "\n",
    "\n",
    "def log_post(a,b,Z):\n",
    "    \"\"\"\n",
    "    Compute log of posterior for single set of parameters.\n",
    "\n",
    "    \"\"\"\n",
    "    sigma_z = np.sqrt((np.std(a)**2) + (np.std(b)**2))\n",
    "    z_0 = np.average(a)-np.average(b)\n",
    "    \n",
    "    return np.log(1/(sigma_z)*np.sqrt(2*np.pi))-(((Z-z_0)**2)/(2*(sigma_z**2)))"
   ]
  },
  {
   "cell_type": "code",
   "execution_count": 55,
   "metadata": {
    "collapsed": false
   },
   "outputs": [],
   "source": [
    "n_dim = 1        # number of parameters in the model (just p)\n",
    "n_walkers = 50   # number of MCMC walkers\n",
    "n_burn = 1000     # \"burn-in\" period to let chains stabilize\n",
    "n_steps = 5000   # number of MCMC steps to take after burn-in\n",
    "\n",
    "\n",
    "p0 = np.empty((n_walkers, n_dim))\n",
    "p0[:,0] = np.random.uniform(-1,1, n_walkers)             # Z\n",
    "\n",
    "sampler = emcee.EnsembleSampler(n_walkers, n_dim, log_post, \n",
    "                                args=(venus_dorsal,crosssection), threads=4)\n",
    "\n",
    "# Do burn-in\n",
    "pos, prob, states, blobs = sampler.run_mcmc(p0, n_burn, storechain=False)"
   ]
  },
  {
   "cell_type": "code",
   "execution_count": 56,
   "metadata": {
    "collapsed": false
   },
   "outputs": [],
   "source": [
    "#actually do MCMC\n",
    "# Sample again, starting from end burn-in state\n",
    "_ = sampler.run_mcmc(pos, n_steps)"
   ]
  },
  {
   "cell_type": "code",
   "execution_count": 57,
   "metadata": {
    "collapsed": false
   },
   "outputs": [
    {
     "data": {
      "text/plain": [
       "array([ 0.29318971])"
      ]
     },
     "execution_count": 57,
     "metadata": {},
     "output_type": "execute_result"
    }
   ],
   "source": [
    "\n",
    "# Get the index of the most probable parameter\n",
    "max_ind = np.argmax(sampler.flatlnprobability)\n",
    "\n",
    "\n",
    "# Pull out values.\n",
    "delta_MAP = sampler.flatchain[max_ind]\n",
    "\n",
    "delta_MAP"
   ]
  },
  {
   "cell_type": "markdown",
   "metadata": {},
   "source": [
    "## Conclusions\n",
    "The MAP value for delta is about .29"
   ]
  },
  {
   "cell_type": "code",
   "execution_count": null,
   "metadata": {
    "collapsed": true
   },
   "outputs": [],
   "source": []
  }
 ],
 "metadata": {
  "kernelspec": {
   "display_name": "Python 3",
   "language": "python",
   "name": "python3"
  },
  "language_info": {
   "codemirror_mode": {
    "name": "ipython",
    "version": 3
   },
   "file_extension": ".py",
   "mimetype": "text/x-python",
   "name": "python",
   "nbconvert_exporter": "python",
   "pygments_lexer": "ipython3",
   "version": "3.4.3"
  }
 },
 "nbformat": 4,
 "nbformat_minor": 0
}
