{
 "cells": [
  {
   "cell_type": "code",
   "execution_count": 1,
   "metadata": {
    "collapsed": true
   },
   "outputs": [],
   "source": [
    "import collections\n",
    "import itertools\n",
    "\n",
    "# Our numerical workhorses\n",
    "import numpy as np\n",
    "import pandas as pd\n",
    "import scipy.optimize\n",
    "import scipy.stats as st\n",
    "\n",
    "# Numerical differentiation packages\n",
    "import numdifftools as ndt\n",
    "\n",
    "# Our main MCMC package\n",
    "import emcee\n",
    "\n",
    "# Import pyplot for plotting\n",
    "import matplotlib.pyplot as plt\n",
    "\n",
    "# Seaborn, useful for graphics\n",
    "import seaborn as sns\n",
    "\n",
    "# Corner is useful for displaying MCMC results\n",
    "import corner\n",
    "\n",
    "# Magic function to make matplotlib inline; other style specs must come AFTER\n",
    "%matplotlib inline\n",
    "\n",
    "# This enables high res graphics inline (only use with static plots (non-Bokeh))\n",
    "# SVG is preferred, but there is a bug in Jupyter with vertical lines\n",
    "%config InlineBackend.figure_formats = {'png', 'retina'}\n",
    "\n",
    "# JB's favorite Seaborn settings for notebooks\n",
    "rc = {'lines.linewidth': 2, \n",
    "      'axes.labelsize': 18, \n",
    "      'axes.titlesize': 18, \n",
    "      'axes.facecolor': 'DFDFE5'}\n",
    "sns.set_context('notebook', rc=rc)\n",
    "sns.set_style('darkgrid', rc=rc)"
   ]
  },
  {
   "cell_type": "code",
   "execution_count": 2,
   "metadata": {
    "collapsed": false
   },
   "outputs": [
    {
     "data": {
      "text/html": [
       "<div>\n",
       "<table border=\"1\" class=\"dataframe\">\n",
       "  <thead>\n",
       "    <tr style=\"text-align: right;\">\n",
       "      <th></th>\n",
       "      <th>Droplet Diameter (um)</th>\n",
       "      <th>Droplet Volume (uL)</th>\n",
       "      <th>Spindle Length (um)</th>\n",
       "      <th>Spindle Width (um)</th>\n",
       "      <th>Spindle Area (um2)</th>\n",
       "    </tr>\n",
       "  </thead>\n",
       "  <tbody>\n",
       "    <tr>\n",
       "      <th>0</th>\n",
       "      <td>27.1</td>\n",
       "      <td>0.000010</td>\n",
       "      <td>28.9</td>\n",
       "      <td>10.8</td>\n",
       "      <td>155.8</td>\n",
       "    </tr>\n",
       "    <tr>\n",
       "      <th>1</th>\n",
       "      <td>28.2</td>\n",
       "      <td>0.000012</td>\n",
       "      <td>22.7</td>\n",
       "      <td>7.2</td>\n",
       "      <td>81.5</td>\n",
       "    </tr>\n",
       "    <tr>\n",
       "      <th>2</th>\n",
       "      <td>29.4</td>\n",
       "      <td>0.000013</td>\n",
       "      <td>26.2</td>\n",
       "      <td>10.5</td>\n",
       "      <td>138.3</td>\n",
       "    </tr>\n",
       "    <tr>\n",
       "      <th>3</th>\n",
       "      <td>31.0</td>\n",
       "      <td>0.000016</td>\n",
       "      <td>19.2</td>\n",
       "      <td>9.4</td>\n",
       "      <td>90.5</td>\n",
       "    </tr>\n",
       "    <tr>\n",
       "      <th>4</th>\n",
       "      <td>31.0</td>\n",
       "      <td>0.000016</td>\n",
       "      <td>28.4</td>\n",
       "      <td>12.1</td>\n",
       "      <td>172.4</td>\n",
       "    </tr>\n",
       "  </tbody>\n",
       "</table>\n",
       "</div>"
      ],
      "text/plain": [
       "   Droplet Diameter (um)  Droplet Volume (uL)  Spindle Length (um)  \\\n",
       "0                   27.1             0.000010                 28.9   \n",
       "1                   28.2             0.000012                 22.7   \n",
       "2                   29.4             0.000013                 26.2   \n",
       "3                   31.0             0.000016                 19.2   \n",
       "4                   31.0             0.000016                 28.4   \n",
       "\n",
       "   Spindle Width (um)  Spindle Area (um2)  \n",
       "0                10.8               155.8  \n",
       "1                 7.2                81.5  \n",
       "2                10.5               138.3  \n",
       "3                 9.4                90.5  \n",
       "4                12.1               172.4  "
      ]
     },
     "execution_count": 2,
     "metadata": {},
     "output_type": "execute_result"
    }
   ],
   "source": [
    "# Load data into DataFrame\n",
    "df = pd.read_csv('data/invitro_droplet_data.csv', comment='#')\n",
    "\n",
    "# Check it out\n",
    "df.head()"
   ]
  },
  {
   "cell_type": "code",
   "execution_count": 3,
   "metadata": {
    "collapsed": false
   },
   "outputs": [],
   "source": [
    "def spindle_length(p, d):\n",
    "    \"\"\"\n",
    "    Theoretical model for spindle length\n",
    "    \"\"\"\n",
    "    theta, gamma= p\n",
    "    return gamma * d / ((1 + (gamma * d / theta)**3)**(1/3))\n",
    "\n",
    "def log_post(p, d, ell):\n",
    "    \"\"\"\n",
    "    Compute log of posterior for single set of parameters.\n",
    "    p[0] = theta\n",
    "    p[1] = gamma\n",
    "    \"\"\"\n",
    "    # Unpack parameters\n",
    "    theta, gamma = p\n",
    "    \n",
    "    # Zero probability of having gamma< 0 or gamma > 1\n",
    "    if gamma < 0 or gamma > 1:\n",
    "        return -np.inf\n",
    "    \n",
    "        # Zero probability of having theta< 0 or theta > 1000\n",
    "    if theta < 0 or theta > 1000:\n",
    "        return -np.inf\n",
    "    \n",
    "    # Theoretical spindle length\n",
    "    ell_theor = spindle_length(p, d)\n",
    "    \n",
    "    return -len(d) / 2 * np.log(np.sum((ell - ell_theor)**2))\n",
    "\n"
   ]
  },
  {
   "cell_type": "code",
   "execution_count": 4,
   "metadata": {
    "collapsed": true
   },
   "outputs": [],
   "source": [
    "n_dim = 2        # number of parameters in the model (theta and gamma)\n",
    "n_walkers = 50   # number of MCMC walkers\n",
    "n_burn = 500     # \"burn-in\" period to let chains stabilize\n",
    "n_steps = 5000   # number of MCMC steps to take after burn-in"
   ]
  },
  {
   "cell_type": "code",
   "execution_count": 5,
   "metadata": {
    "collapsed": false
   },
   "outputs": [],
   "source": [
    "# p0[i,j] is the starting point for walk i along variable j.\n",
    "p0 = np.empty((n_walkers, n_dim))\n",
    "p0[:,0] = np.random.uniform(1,100, n_walkers)            # theta\n",
    "p0[:,1] = np.random.uniform(0, 1, n_walkers)             # gamma"
   ]
  },
  {
   "cell_type": "code",
   "execution_count": 6,
   "metadata": {
    "collapsed": false
   },
   "outputs": [],
   "source": [
    "sampler = emcee.EnsembleSampler(n_walkers, n_dim, log_post, \n",
    "                                args=(df['Droplet Diameter (um)'],df['Spindle Length (um)'],), threads=2)\n"
   ]
  },
  {
   "cell_type": "code",
   "execution_count": 7,
   "metadata": {
    "collapsed": false
   },
   "outputs": [],
   "source": [
    "# Do burn-in\n",
    "pos, prob, state = sampler.run_mcmc(p0, n_burn, storechain=False)\n",
    "#prob"
   ]
  },
  {
   "cell_type": "code",
   "execution_count": 8,
   "metadata": {
    "collapsed": true
   },
   "outputs": [],
   "source": [
    "# Sample again, starting from end burn-in state\n",
    "_ = sampler.run_mcmc(pos, n_steps)"
   ]
  },
  {
   "cell_type": "code",
   "execution_count": 9,
   "metadata": {
    "collapsed": false
   },
   "outputs": [
    {
     "name": "stdout",
     "output_type": "stream",
     "text": [
      "(50, 5000, 2)\n",
      "(250000, 2)\n"
     ]
    }
   ],
   "source": [
    "print(sampler.chain.shape)\n",
    "print(sampler.flatchain.shape)"
   ]
  },
  {
   "cell_type": "code",
   "execution_count": 10,
   "metadata": {
    "collapsed": false
   },
   "outputs": [
    {
     "name": "stdout",
     "output_type": "stream",
     "text": [
      "\n",
      "Most probable parameter values:\n",
      "θ:  38.247 µm\n",
      "γ: 0.860\n",
      "\n"
     ]
    }
   ],
   "source": [
    "# Get the index of the most probable parameter set\n",
    "\n",
    "max_ind = np.argmax(sampler.flatlnprobability)\n",
    "\n",
    "#sampler.flatlnprobability\n",
    "# Pull out values.\n",
    "theta_MAP, gamma_MAP = sampler.flatchain[max_ind,:]\n",
    "\n",
    "\n",
    "\n",
    "# Print the results\n",
    "print(\"\"\"\n",
    "Most probable parameter values:\n",
    "θ:  {0:.3f} µm\n",
    "γ: {1:.3f}\n",
    "\"\"\".format(theta_MAP, gamma_MAP))"
   ]
  },
  {
   "cell_type": "code",
   "execution_count": 11,
   "metadata": {
    "collapsed": false
   },
   "outputs": [
    {
     "name": "stdout",
     "output_type": "stream",
     "text": [
      "Error bars:\n",
      " 0.39467169402 0.017720171396\n"
     ]
    }
   ],
   "source": [
    "# Compute error bars by taking standard deviation\n",
    "theta_err, gamma_err = sampler.flatchain.std(axis=0)\n",
    "\n",
    "print('Error bars:\\n', theta_err, gamma_err)"
   ]
  },
  {
   "cell_type": "code",
   "execution_count": 12,
   "metadata": {
    "collapsed": false
   },
   "outputs": [
    {
     "data": {
      "text/plain": [
       "0.010319071364546611"
      ]
     },
     "execution_count": 12,
     "metadata": {},
     "output_type": "execute_result"
    }
   ],
   "source": [
    "theta_err/theta_MAP"
   ]
  },
  {
   "cell_type": "code",
   "execution_count": 13,
   "metadata": {
    "collapsed": false
   },
   "outputs": [
    {
     "data": {
      "text/plain": [
       "0.02060179843639285"
      ]
     },
     "execution_count": 13,
     "metadata": {},
     "output_type": "execute_result"
    }
   ],
   "source": [
    "gamma_err/gamma_MAP"
   ]
  },
  {
   "cell_type": "code",
   "execution_count": 14,
   "metadata": {
    "collapsed": false
   },
   "outputs": [
    {
     "data": {
      "text/plain": [
       "<matplotlib.text.Text at 0x10bdb77b8>"
      ]
     },
     "execution_count": 14,
     "metadata": {},
     "output_type": "execute_result"
    },
    {
     "data": {
      "image/png": "[encoded data removed]",
      "text/plain": [
       "<matplotlib.figure.Figure at 0x10b406240>"
      ]
     },
     "metadata": {
      "image/png": {
       "height": 226,
       "width": 567
      }
     },
     "output_type": "display_data"
    }
   ],
   "source": [
    "fig, ax = plt.subplots(1, 2, figsize=(9, 3))\n",
    "\n",
    "for i in [0, 1]:\n",
    "    # Plot the histogram as a step plot\n",
    "    _ = ax[i].hist(sampler.flatchain[:,i], bins=100, normed=True, \n",
    "                   histtype='step', lw=2)\n",
    "\n",
    "ax[0].set_xlabel(r'$\\theta$ (µm)')\n",
    "ax[1].set_xlabel(r'$\\gamma$')\n",
    "ax[0].set_ylabel('probability')"
   ]
  },
  {
   "cell_type": "markdown",
   "metadata": {},
   "source": [
    "## Sigma\n",
    "\n"
   ]
  },
  {
   "cell_type": "code",
   "execution_count": 45,
   "metadata": {
    "collapsed": false
   },
   "outputs": [],
   "source": [
    "def spindle_length_sigma(p, d):\n",
    "    \"\"\"\n",
    "    Theoretical model for spindle length\n",
    "    \"\"\"\n",
    "    theta, gamma, sigma = p\n",
    "    return gamma * d / ((1 + (gamma * d / theta)**3)**(1/3))\n",
    "\n",
    "def log_post_sigma(p, d, ell):\n",
    "    \"\"\"\n",
    "    Compute log of posterior for single set of parameters.\n",
    "    p[0] = theta\n",
    "    p[1] = gamma\n",
    "    p[2] = sigma\n",
    "    \"\"\"\n",
    "    # Unpack parameters\n",
    "    theta, gamma, sigma = p\n",
    "    \n",
    "    # Zero probability of having gamma< 0 or gamma > 1\n",
    "    if gamma < 0 or gamma > 1:\n",
    "        return -np.inf\n",
    "    \n",
    "        # Zero probability of having theta< 0 or theta > 1000\n",
    "    if theta < 0 or theta > 1000:\n",
    "        return -np.inf\n",
    "    \n",
    "            # Zero probability of having sigma< 0 or sigma > theta\n",
    "    if sigma < 0:\n",
    "        return -np.inf\n",
    "\n",
    "    \n",
    "    # Theoretical spindle length\n",
    "    ell_theor = spindle_length_sigma(p, d)\n",
    "    \n",
    "    return np.log(1/(sigma**len(d)))+(-1/(2*(sigma**2)))*(np.sum((ell - ell_theor)**2))\n",
    "\n"
   ]
  },
  {
   "cell_type": "code",
   "execution_count": 61,
   "metadata": {
    "collapsed": true
   },
   "outputs": [],
   "source": [
    "n_dim = 3        # number of parameters in the model (theta and gamma)\n",
    "n_walkers = 100   # number of MCMC walkers\n",
    "n_burn = 1000     # \"burn-in\" period to let chains stabilize\n",
    "n_steps = 10000   # number of MCMC steps to take after burn-in\n",
    "\n",
    "\n",
    "p0 = np.empty((n_walkers, n_dim))\n",
    "p0[:,0] = np.random.uniform(1,100, n_walkers)            # theta\n",
    "p0[:,1] = np.random.uniform(0, 1, n_walkers)             # gamma\n",
    "p0[:,2] = np.random.exponential(.5, n_walkers)             # simga\n",
    "\n",
    "sampler = emcee.EnsembleSampler(n_walkers, n_dim, log_post_sigma, \n",
    "                                args=(df['Droplet Diameter (um)'],df['Spindle Length (um)'],), threads=4)\n"
   ]
  },
  {
   "cell_type": "code",
   "execution_count": 62,
   "metadata": {
    "collapsed": false
   },
   "outputs": [],
   "source": [
    "# Do burn-in\n",
    "pos, prob, state = sampler.run_mcmc(p0, n_burn, storechain=False)\n",
    "#prob"
   ]
  },
  {
   "cell_type": "code",
   "execution_count": 63,
   "metadata": {
    "collapsed": true
   },
   "outputs": [],
   "source": [
    "# Sample again, starting from end burn-in state\n",
    "_ = sampler.run_mcmc(pos, n_steps)"
   ]
  },
  {
   "cell_type": "code",
   "execution_count": 64,
   "metadata": {
    "collapsed": false
   },
   "outputs": [
    {
     "name": "stdout",
     "output_type": "stream",
     "text": [
      "\n",
      "Most probable parameter values:\n",
      "θ:  92.382 µm\n",
      "γ: 0.203\n",
      "σ: 0.203\n",
      "\n"
     ]
    }
   ],
   "source": [
    "# Get the index of the most probable parameter set\n",
    "\n",
    "max_ind = np.argmax(sampler.flatlnprobability)\n",
    "\n",
    "#sampler.flatlnprobability\n",
    "# Pull out values.\n",
    "theta_MAP, gamma_MAP, sigma_MAP = sampler.flatchain[max_ind,:]\n",
    "\n",
    "\n",
    "\n",
    "# Print the results\n",
    "print(\"\"\"\n",
    "Most probable parameter values:\n",
    "θ:  {0:.3f} µm\n",
    "γ: {1:.3f}\n",
    "σ: {1:.3f}\n",
    "\"\"\".format(theta_MAP, gamma_MAP,sigma_MAP))"
   ]
  },
  {
   "cell_type": "code",
   "execution_count": 65,
   "metadata": {
    "collapsed": false
   },
   "outputs": [
    {
     "data": {
      "text/plain": [
       "<matplotlib.text.Text at 0x1124c64e0>"
      ]
     },
     "execution_count": 65,
     "metadata": {},
     "output_type": "execute_result"
    },
    {
     "data": {
      "image/png": "[encoded data removed]",
      "text/plain": [
       "<matplotlib.figure.Figure at 0x10c329630>"
      ]
     },
     "metadata": {
      "image/png": {
       "height": 226,
       "width": 570
      }
     },
     "output_type": "display_data"
    }
   ],
   "source": [
    "fig, ax = plt.subplots(1, 3, figsize=(9, 3))\n",
    "\n",
    "for i in [0, 2]:\n",
    "    # Plot the histogram as a step plot\n",
    "    _ = ax[i].hist(sampler.flatchain[:,i], bins=100, normed=True, \n",
    "                   histtype='step', lw=2)\n",
    "\n",
    "ax[0].set_xlabel(r'$\\theta$ (µm)')\n",
    "ax[1].set_xlabel(r'$\\gamma$')\n",
    "ax[2].set_xlabel(r'$\\sigma$')\n",
    "ax[0].set_ylabel('probability')"
   ]
  },
  {
   "cell_type": "markdown",
   "metadata": {},
   "source": [
    "## Conlcusions from plotting \n",
    "These plots are pretty ugly, but I can't plot any more; the simulations takes too long.  \n",
    "\n",
    "The distribution for sigma appears to be bimodal, with one mode at approximately .1-.2, but with the other centered around 3.  Becuase the prior for sigma was assumed to expoenential centered around .5, and neither peak is centered around the initial distribution, we can conclude that neither of these peaks are artifacts from undersampling.\n",
    "\n",
    "A bimodal error distribution might suggest that there is a confounding factor in determining spindle size.  Usually, the the model predicts spindle size pretty accurately, but for some cases, the error is significantly higher. This could indicate that the mdoel is too simple, and a thrid parameter is needed to accurately predict spindle size.   \n"
   ]
  },
  {
   "cell_type": "code",
   "execution_count": null,
   "metadata": {
    "collapsed": true
   },
   "outputs": [],
   "source": []
  }
 ],
 "metadata": {
  "kernelspec": {
   "display_name": "Python 3",
   "language": "python",
   "name": "python3"
  },
  "language_info": {
   "codemirror_mode": {
    "name": "ipython",
    "version": 3
   },
   "file_extension": ".py",
   "mimetype": "text/x-python",
   "name": "python",
   "nbconvert_exporter": "python",
   "pygments_lexer": "ipython3",
   "version": "3.4.3"
  }
 },
 "nbformat": 4,
 "nbformat_minor": 0
}
