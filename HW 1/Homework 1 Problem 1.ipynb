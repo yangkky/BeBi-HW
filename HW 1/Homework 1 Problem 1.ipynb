{
 "cells": [
  {
   "cell_type": "markdown",
   "metadata": {},
   "source": [
    "Goals for Kevin Yang:\n",
    "My goal for this class is to learn the principals of Bayesian statistics and data analysis. Through lecture, reading, tutorial, and practice, I would like to learn how to apply a principled approach to analyzing and interpreting data. My professor has asked me, as one of two engineering students currently in the group, to become a resource for quantitative analysis to the rest of the group, and this class is one step towards fulfilling that role. In the longer term, I want to work on problems at the intersection of biology, engineering, and statistics, and the material in this class is relevant to that intersection. Finally, I would like to develop my skill and familiarity with Python, increasing my ability to both quickly write functional code and to write well-documented production code. "
   ]
  },
  {
   "cell_type": "code",
   "execution_count": null,
   "metadata": {
    "collapsed": true
   },
   "outputs": [],
   "source": []
  }
 ],
 "metadata": {
  "kernelspec": {
   "display_name": "Python 3",
   "language": "python",
   "name": "python3"
  },
  "language_info": {
   "codemirror_mode": {
    "name": "ipython",
    "version": 3
   },
   "file_extension": ".py",
   "mimetype": "text/x-python",
   "name": "python",
   "nbconvert_exporter": "python",
   "pygments_lexer": "ipython3",
   "version": "3.4.3"
  }
 },
 "nbformat": 4,
 "nbformat_minor": 0
}
