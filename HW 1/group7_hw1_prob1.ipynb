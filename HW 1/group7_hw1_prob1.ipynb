{
 "cells": [
  {
   "cell_type": "markdown",
   "metadata": {},
   "source": [
    "# Problem 1.1 (Your goals, 20 pts)"
   ]
  },
  {
   "cell_type": "markdown",
   "metadata": {},
   "source": [
    "## Kevin Yang:\n",
    "My goal for this class is to learn the principles of Bayesian statistics and data analysis. Through lecture, reading, tutorial, and practice, I would like to learn how to apply a principled approach to analyzing and interpreting data. My professor has asked me, as one of two engineering students currently in the group, to become a resource for quantitative analysis to the rest of the group, and this class is one step towards fulfilling that role. In the longer term, I want to work on problems at the intersection of biology, engineering, machine learning and statistics, and the material in this class is relevant to that intersection. Even now, my research requires me to apply machine learning techniques, and a stronger statistical background would lead to a deeper understanding and hopefully better application of those techniques. Finally, I would like to develop my skill and familiarity with Python, increasing my ability to both quickly write functional code and to write well-documented production code. "
   ]
  },
  {
   "cell_type": "markdown",
   "metadata": {
    "collapsed": true
   },
   "source": [
    "## Chigozie Nri\n",
    "I was disappointed that I never did any formal data analysis in my undergraduate or master's degrees. When it came time to write up my master's thesis, I felt adrift, unsure of how to analyse or present my data. I had to work out the best way to do it on my own, and I am sure that I didn't do as good a job as I could have. I wished I'd had some formal training in best practices, but also that I'd thought about it before even starting the research and designed my experiments so they would be more amenable to robust statistics.\n",
    "Now I'm at the start of my PhD, I imagine I will be designing, analysing, and presenting lots of experiments. I'd like to avoid making the same mistakes as in my master's.\n",
    "\n",
    "My specific goals:\n",
    "\n",
    "* Design of experiments: What is the best way to design experiments so that the data can be interrogated easily? This, I suppose, is the other side of the data munging that we talked about in the bootcamp and the first lab. It might be better covered in another class, but I think this class is certainly relevant: for example, I might want to generate some dummy data before starting to see whether different ways of collecting data are easier to spot trends in.\n",
    "\n",
    "* Storage: How can I produce data in a way that is neatly archived and easily accessible? I am quite bad at storing files, notes &c. in a way that is easy to come back to and work out what I was doing. I hope that between getting a standardised (or at least sensible) set of file structures, data structures and comments, I'll improve this.\n",
    "\n",
    "* Presentation: I'd like to impress at group meetings! (And in more formal scientific writing, but group meetings is my starting point)."
   ]
  },
  {
   "cell_type": "markdown",
   "metadata": {},
   "source": [
    "## Rusty Lewis\n",
    "\n",
    "My research involves both biochemistry and organic chemistry, and so involves trying to present biochemical data to organic chemists, and organic reaction data to biochemists.  It usually takes a while for people who are nonexperts to understand the data I present, and I think learning to present data clearly and concisely would help this.  \n",
    "I also want to learn better methods for determining statistical significance in my data, and better programs in which to process the data. "
   ]
  },
  {
   "cell_type": "markdown",
   "metadata": {
    "collapsed": true
   },
   "source": [
    "## Alice Hsu\n",
    "\n",
    "From this class, I would like to learn how to accurately represent my data so that the results I generate are clear and properly describe my findings. I will like to learn more about image processing. Also, I want to learn how make sure that the programs I am running can reproduce my findings and properly capture the experiments I analyse. Something I find confusing is how to quickly structure programming commands.  "
   ]
  }
 ],
 "metadata": {
  "kernelspec": {
   "display_name": "Python 3",
   "language": "python",
   "name": "python3"
  },
  "language_info": {
   "codemirror_mode": {
    "name": "ipython",
    "version": 3
   },
   "file_extension": ".py",
   "mimetype": "text/x-python",
   "name": "python",
   "nbconvert_exporter": "python",
   "pygments_lexer": "ipython3",
   "version": "3.4.3"
  }
 },
 "nbformat": 4,
 "nbformat_minor": 0
}
