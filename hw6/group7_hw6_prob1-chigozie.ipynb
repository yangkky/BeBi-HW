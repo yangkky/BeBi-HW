{
 "cells": [
  {
   "cell_type": "markdown",
   "metadata": {},
   "source": [
    "# BE/Bi 103, Fall 2015: Homework 6\n",
    "\n",
    "## Due 1pm, Monday, November 16"
   ]
  },
  {
   "cell_type": "markdown",
   "metadata": {},
   "source": [
    "*This document was generated from a Jupyter notebook.  You can download the notebook [here](hw6.ipynb).*"
   ]
  },
  {
   "cell_type": "markdown",
   "metadata": {},
   "source": [
    "### Problem 6.1: Microtubule catastrophe, 70 pts + 15 pts extra credit\n",
    "\n",
    "In [Homework 1](hw1.html), we plotted data of microtubule catastrophe times.  In this problem, we return to the data from the [Gardner, Zanic, et al. paper](../protected/papers/gardner_2011.pdf)  We will carefully analyze the data and make some conclusions about the processes underlying microtubule catastrophe.  You can download the data set [here](../protected/data/gardner_hw6.zip).\n",
    "\n",
    "In the file `gardner_mt_catastrophe_only_tubulin.csv`, we have observed catastrophe times of microtubules with different concentrations of tubulin.  So, our data set $D$ consists of a set of measurements of the amount of time to catastrophe; $D = \\{t_i\\}$.  To model microtuble catastrophe, we will assume that a series of $m$ processes must occur sequentially to trigger catastrophe.  This could be separate depolymerization events, binding of auxiliary proteins, etc.  We assume that each of these processes is a Poisson process, and that process $j$ occurs with rate $1/\\tau_j$.  Our goal here is to do model selection to determine the value of $m$.\n",
    "\n",
    "As we have learned, the model specifies the likelihood.  We will assume all microtubule catastrophes are independent, so the likelihood for all of our observed catastrophes \n",
    "\n",
    "\\begin{align}\n",
    "P(\\left\\{t_i\\right\\}\\mid \\{\\tau_j\\}, m, I) = \\prod_i P(t_i\\mid \\{\\tau_j\\}, m, I).\n",
    "\\end{align}\n",
    "\n",
    "**a)** Explain why the probability distribution for catastrophe times for a three-step process ($m=3$) is\n",
    "\n",
    "\\begin{align}\n",
    "P(t\\mid \\tau_1, \\tau_2, \\tau_3, 3, I) = \\frac{1}{\\tau_1\\tau_2\\tau_3}\\int_0^t\\mathrm{d}t_1 \\int_{t_1}^t\\mathrm{d}t_2\\, \\mathrm{e}^{-t_1/\\tau_1}\\,\\mathrm{e}^{-(t_2-t_1)/\\tau_2}\\,\\mathrm{e}^{-(t-t_2)/\\tau_3}.\n",
    "\\end{align}"
   ]
  },
  {
   "cell_type": "markdown",
   "metadata": {},
   "source": [
    "The probability for a single event happening between time t and time t + dt is Poisson distributed:\n",
    "\\begin{align}\n",
    "P(t_i\\mid \\tau_i, I)dt &= \\lambda_i\\mathrm{e}^{-\\lambda_i t}dt & \\text{where } \\lambda_i = \\frac{1}{\\tau_i}\\\\\n",
    "P(t_i\\mid \\tau_i, I)dt &= \\frac{1}{\\tau_i}\\mathrm{e}^{-\\text{time interval}/\\tau_i}dt\n",
    "\\end{align}\n",
    "For the catastrophe to happen, the first event must happen at any time from $t_0$ to $t$. The probability it will happen in the right time interval is:\n",
    "\\begin{align}\n",
    "P(t_1\\mid \\tau_i, I) = \\int_0^t\\mathrm{d}t_1\\frac{1}{\\tau_1}\\mathrm{e}^{-t_1/\\tau_1}\n",
    "\\end{align}\n",
    "For the catastrophe to happen, the second event must happen after $t_1$, so it can happen at any time from $t_1$ to $t$, so the probability it will happen in the right time interval is:\n",
    "\\begin{align}\n",
    "P(t_2\\mid \\tau_2, I) = \\int_{t_1}^t\\mathrm{d}t_2\\frac{1}{\\tau_2}\\mathrm{e}^{-(t_2-t_1)/\\tau_2}\n",
    "\\end{align}\n",
    "For the catastrophe to happen, the third event must happen after $t_2$. It can happen at any time from $t_2$ to $t$, so the probability it will happen in the right time interval is:\n",
    "\\begin{align}\n",
    "P(t_3\\mid \\tau_3, I) = \\int_{t_2}^t\\mathrm{d}t_3\\frac{1}{\\tau_3}\\mathrm{e}^{-(t_3-t_2)/\\tau_3}\n",
    "\\end{align}\n",
    "but we also know that $t_3$ happens at $t_3$, and $t_3 = t$, so in fact:\n",
    "\\begin{align}\n",
    "P(t_3\\mid \\tau_3, I) &= \\int_{t_3}^t\\mathrm{d}t\\frac{1}{\\tau_3}\\mathrm{e}^{-(t_3-t_2)/\\tau_3}\\\\\n",
    "&= \\frac{1}{\\tau_3}\\mathrm{e}^{-(t-t_2)/\\tau_3}\n",
    "\\end{align}\n",
    "Now:\n",
    "\\begin{align}\n",
    "P(\\left\\{t_i\\right\\}\\mid \\{\\tau_j\\}, m, I) = \\prod_i P(t_i\\mid \\{\\tau_j\\}, m, I).\n",
    "\\end{align}\n",
    "\n",
    "so\n",
    "\\begin{align}\n",
    "P(t\\mid \\tau_1, \\tau_2, \\tau_3, 3, I) = \\frac{1}{\\tau_1\\tau_2\\tau_3}\\int_0^t\\mathrm{d}t_1 \\int_{t_1}^t\\mathrm{d}t_2\\, \\mathrm{e}^{-t_1/\\tau_1}\\,\\mathrm{e}^{-(t_2-t_1)/\\tau_2}\\,\\mathrm{e}^{-(t-t_2)/\\tau_3}.\n",
    "\\end{align}"
   ]
  },
  {
   "cell_type": "markdown",
   "metadata": {},
   "source": [
    "\n",
    "**b)** The above expression for general $m$ can be integrated, giving\n",
    "\n",
    "\\begin{align}\n",
    "P(t\\mid \\{\\tau_j\\}, m, I) = \\sum_{j=1}^m \\frac{\\tau_j^{m-2}\\,\\mathrm{e}^{-t/\\tau_j}}{\\prod_{k=1,k\\ne j}^m (\\tau_j - \\tau_k)}.\n",
    "\\end{align}\n",
    "\n",
    "For clarity, the probability distributions for the first few $m$ are\n",
    "\n",
    "\\begin{align}\n",
    "P(t\\mid \\tau_1, 1, I) &= \\frac{\\mathrm{e}^{-t/\\tau_1}}{\\tau_1},\\\\[1em]\n",
    "P(t\\mid \\tau_1, \\tau_2, 2, I) &=\n",
    "\\frac{\\mathrm{e}^{-t/\\tau_1}}{\\tau_1 - \\tau_2} + \\frac{\\mathrm{e}^{-t/\\tau_2}}{\\tau_2 - \\tau_1}\n",
    "= \\frac{\\mathrm{e}^{-t/\\tau_2} - \\mathrm{e}^{-t/\\tau_1}}{\\tau_2 - \\tau_1} \\\\[1em]\n",
    "P(t\\mid \\tau_1, \\tau_2, \\tau_3, 3, I) &=\n",
    "\\frac{\\tau_1\\,\\mathrm{e}^{-t/\\tau_1}}{(\\tau_1 - \\tau_2)(\\tau_1-\\tau_3)}\n",
    "+\\frac{\\tau_2\\,\\mathrm{e}^{-t/\\tau_2}}{(\\tau_2 - \\tau_1)(\\tau_2-\\tau_3)}\n",
    "+\\frac{\\tau_3\\,\\mathrm{e}^{-t/\\tau_3}}{(\\tau_3 - \\tau_1)(\\tau_3-\\tau_2)}\n",
    "\\end{align}\n",
    "\n",
    "Note that these probability distributions assume that no two of the $\\tau_j$'s are equal, and you should explicitly ensure this in your calculations.  If any two $\\tau_j$'s are equal, you need to take a limit, e.g.,\n",
    "\n",
    "\\begin{align}\n",
    "\\lim_{\\tau_2\\to\\tau_1} P(t\\mid \\tau_1, \\tau_2, 2, I) &= \\frac{t^2}{2\\tau_1}\\,\\mathrm{e}^{-t/\\tau_1},\n",
    "\\end{align}\n",
    "\n",
    "in this case, as gamma distribution.  Not to worry; we will not include this limit in our analysis here.\n",
    "\n",
    "In fact, you should specify $\\tau_1 < \\tau_2 < \\cdots < \\tau_m$.  Why is this ok to do, and why should you do it?"
   ]
  },
  {
   "cell_type": "markdown",
   "metadata": {},
   "source": [
    "#### Why is this OK to do?\n",
    "The events cannot have the same rates, because the rates are a real number (although the rates can be arbitrarily close to each other!). Even if all the events are the same \"type\" of event (e.g. hydrolysing GTP 3 times), the rates not be exactly equal.\n",
    "The mathematics are indifferent to which event is given which label, so we can decide that $\\tau_1 < \\tau_2 < \\cdots < \\tau_m$\n",
    "#### Why should you do it?\n",
    "We need a positive probability. If $\\tau_1 < \\tau_2 < \\cdots < \\tau_m$ is not true then the denominators for some terms in P might go negative, so the overall probability might be negative."
   ]
  },
  {
   "cell_type": "markdown",
   "metadata": {},
   "source": [
    "**c)** For the trials where the tubulin concentration is 12 µM (from the file `gardner_mt_catastrophe_only_tubulin.csv`), perform parameter estimation for the $\\{\\tau_j\\}$ and model selection for various values of $m$.  Report the results with clear graphics and discussion.  \n",
    "\n",
    "*Hint*: Computing the log of the sum of exponentials while dealing with machine precision is a tricky business, and something that comes up often in probability.  Here is my advice.  Say you are computing $\\ln(\\mathrm{e}^a - \\mathrm{e}^b + \\mathrm{e}^c)$ with $a>b>c$.  We have\n",
    "\n",
    "\\begin{align}\n",
    "\\ln(\\mathrm{e}^a - \\mathrm{e}^b + \\mathrm{e}^c) = \\ln\\left(\\mathrm{e}^a(1 - \\mathrm{e}^{b-a} + \\mathrm{e}^{c-a})\\right)\n",
    "= a + \\ln(1 - \\mathrm{e}^{b-a} + \\mathrm{e}^{c-a}).\n",
    "\\end{align}\n",
    "\n",
    "This latter expression is much easier to compute numerically because all entries in the sum inside the logarithm at less than or equal to one, given that $a$ is the largest argument to the exponentials.  This procedure is implement in `scipy.misc.logsumexp()`. Be sure to check out the `b` kwarg."
   ]
  },
  {
   "cell_type": "code",
   "execution_count": 2,
   "metadata": {
    "collapsed": true
   },
   "outputs": [],
   "source": [
    "import warnings\n",
    "\n",
    "# Our numerical workhorses\n",
    "import numpy as np\n",
    "import pandas as pd\n",
    "\n",
    "#Differential equation numerical solver\n",
    "from scipy.integrate import odeint\n",
    "\n",
    "# Import pyplot for plotting\n",
    "import matplotlib.pyplot as plt\n",
    "import mpl_toolkits.mplot3d\n",
    "\n",
    "# Seaborn, useful for graphics\n",
    "import seaborn as sns\n",
    "\n",
    "# To compute symbolic expressions\n",
    "import sympy\n",
    "\n",
    "# print outputs in LaTeX\n",
    "sympy.init_printing(use_unicode=True) \n",
    "\n",
    "# Interactive manipulations in the notebook\n",
    "# from ipywidgets import StaticInteract, RangeWidget, RadioWidget\n",
    "from ipywidgets import interact\n",
    "\n",
    "# Magic function to make matplotlib inline; other style specs must come AFTER\n",
    "%matplotlib inline\n",
    "\n",
    "# This enables SVG graphics inline.  There is a bug, so uncomment if it works.\n",
    "%config InlineBackend.figure_formats = {'png', 'retina'}\n",
    "\n",
    "# JB's favorite Seaborn settings for notebooks\n",
    "rc = {'lines.linewidth': 2, \n",
    "      'axes.labelsize': 18, \n",
    "      'axes.titlesize': 18, \n",
    "      'axes.facecolor': 'DFDFE5'}\n",
    "sns.set_context('notebook', rc=rc)\n",
    "sns.set_style('darkgrid', rc=rc)\n",
    "\n",
    "# Suppress future warnings\n",
    "warnings.simplefilter(action='ignore', category=FutureWarning)"
   ]
  },
  {
   "cell_type": "code",
   "execution_count": 5,
   "metadata": {
    "collapsed": true
   },
   "outputs": [],
   "source": [
    "# define the variable for the time and the number of processes]\n",
    "# We will also include the j and k from the product\n",
    "t= sympy.symbols('t')\n",
    "def p_catastrophe(m=3):\n",
    "    taus=sympy.symbols('tau:%d'%(m+1))[1:]\n",
    "    p = list() # initialize list to keep sum terms\n",
    "    for tau in taus:\n",
    "        numerator = tau**(m - 2) * sympy.exp(- t / tau)\n",
    "        denominator = list() # initialize list to keep denominator terms\n",
    "        for tau_2 in taus:\n",
    "            if tau_2 != tau:\n",
    "                denominator.append(tau - tau_2)\n",
    "        p.append(numerator / np.prod(denominator))\n",
    "    return np.sum(p)"
   ]
  },
  {
   "cell_type": "code",
   "execution_count": 46,
   "metadata": {
    "collapsed": false
   },
   "outputs": [
    {
     "data": {
      "image/png": "[encoded data removed]",
      "text/latex": [
       "$$\\frac{\\tau_{1}^{3} e^{- \\frac{t}{\\tau_{1}}}}{\\left(\\tau_{1} - \\tau_{2}\\right) \\left(\\tau_{1} - \\tau_{3}\\right) \\left(\\tau_{1} - \\tau_{4}\\right) \\left(\\tau_{1} - \\tau_{5}\\right)} + \\frac{\\tau_{2}^{3} e^{- \\frac{t}{\\tau_{2}}}}{\\left(- \\tau_{1} + \\tau_{2}\\right) \\left(\\tau_{2} - \\tau_{3}\\right) \\left(\\tau_{2} - \\tau_{4}\\right) \\left(\\tau_{2} - \\tau_{5}\\right)} + \\frac{\\tau_{3}^{3} e^{- \\frac{t}{\\tau_{3}}}}{\\left(- \\tau_{1} + \\tau_{3}\\right) \\left(- \\tau_{2} + \\tau_{3}\\right) \\left(\\tau_{3} - \\tau_{4}\\right) \\left(\\tau_{3} - \\tau_{5}\\right)} + \\frac{\\tau_{4}^{3} e^{- \\frac{t}{\\tau_{4}}}}{\\left(- \\tau_{1} + \\tau_{4}\\right) \\left(- \\tau_{2} + \\tau_{4}\\right) \\left(- \\tau_{3} + \\tau_{4}\\right) \\left(\\tau_{4} - \\tau_{5}\\right)} + \\frac{\\tau_{5}^{3} e^{- \\frac{t}{\\tau_{5}}}}{\\left(- \\tau_{1} + \\tau_{5}\\right) \\left(- \\tau_{2} + \\tau_{5}\\right) \\left(- \\tau_{3} + \\tau_{5}\\right) \\left(- \\tau_{4} + \\tau_{5}\\right)}$$"
      ],
      "text/plain": [
       "                     -t                                        -t             \n",
       "                     ───                                       ───            \n",
       "                  3   τ₁                                    3   τ₂            \n",
       "                τ₁ ⋅ℯ                                     τ₂ ⋅ℯ               \n",
       "─────────────────────────────────────── + ────────────────────────────────────\n",
       "(τ₁ - τ₂)⋅(τ₁ - τ₃)⋅(τ₁ - τ₄)⋅(τ₁ - τ₅)   (-τ₁ + τ₂)⋅(τ₂ - τ₃)⋅(τ₂ - τ₄)⋅(τ₂ -\n",
       "\n",
       "                             -t                                          -t   \n",
       "                             ───                                         ───  \n",
       "                          3   τ₃                                      3   τ₄  \n",
       "                        τ₃ ⋅ℯ                                       τ₄ ⋅ℯ     \n",
       "──── + ───────────────────────────────────────── + ───────────────────────────\n",
       " τ₅)   (-τ₁ + τ₃)⋅(-τ₂ + τ₃)⋅(τ₃ - τ₄)⋅(τ₃ - τ₅)   (-τ₁ + τ₄)⋅(-τ₂ + τ₄)⋅(-τ₃ \n",
       "\n",
       "                                         -t                  \n",
       "                                         ───                 \n",
       "                                      3   τ₅                 \n",
       "                                    τ₅ ⋅ℯ                    \n",
       "─────────────── + ───────────────────────────────────────────\n",
       "+ τ₄)⋅(τ₄ - τ₅)   (-τ₁ + τ₅)⋅(-τ₂ + τ₅)⋅(-τ₃ + τ₅)⋅(-τ₄ + τ₅)"
      ]
     },
     "execution_count": 46,
     "metadata": {},
     "output_type": "execute_result"
    }
   ],
   "source": [
    "taus = sympy.symbols('tau:6')[1:]\n",
    "p = []\n",
    "p_func = []\n",
    "for i in range(6):\n",
    "    p.append(p_catastrophe(i))\n",
    "    \n",
    "    arg_list = [t]\n",
    "    [arg_list.append(taus[j]) for j in range(i)]\n",
    "    p_func.append(sympy.lambdify(arg_list, p[i]))\n",
    "    \n",
    "p[5]"
   ]
  },
  {
   "cell_type": "code",
   "execution_count": 47,
   "metadata": {
    "collapsed": false
   },
   "outputs": [
    {
     "data": {
      "image/png": "[encoded data removed]",
      "text/latex": [
       "$$0.025731991705873477$$"
      ],
      "text/plain": [
       "0.025731991705873477"
      ]
     },
     "execution_count": 47,
     "metadata": {},
     "output_type": "execute_result"
    }
   ],
   "source": [
    "p_func[5](5, 1, 2, 3, 4, 5)"
   ]
  },
  {
   "cell_type": "code",
   "execution_count": null,
   "metadata": {
    "collapsed": true
   },
   "outputs": [],
   "source": []
  },
  {
   "cell_type": "markdown",
   "metadata": {},
   "source": [
    "**d)** Using whichever model you found most probable when you computed the odds ratio for the 12 µM tubulin measurements, the values of the $\\tau_j$'s for the other concentrations of tubulin.  Given that microtubules polymerize faster with higher tubulin concentrations, is there anything you can say about the occurrence of catastrophe by looking at the values of the $\\tau_j$'s versus tubulin concentration?"
   ]
  },
  {
   "cell_type": "markdown",
   "metadata": {},
   "source": [
    "**e) (15 points extra credit)** In the files `gardner_mt_catastrophe_kip3.csv` and `gardner_mt_catastrophe_mcak.csv`, there are measurements of catastrophe times in the presence of the kinesins Kip3 and MCAK with 12 µM tubulin.  Analyze these data and discuss conclusions about their respective roles in microtubule catastrophe.  *Note*: This part of the problem is intentionally open-ended.  You should think carefully, and perform a complete analysis to draw your conclusions."
   ]
  },
  {
   "cell_type": "markdown",
   "metadata": {},
   "source": [
    "<br />\n",
    "<br />"
   ]
  },
  {
   "cell_type": "markdown",
   "metadata": {},
   "source": [
    "### Problem 6.2: Spike sorting, 30 pts\n",
    "\n",
    "Dawna and Kyu kindly provided us with another set of voltage measurements from a mouse retina.  You can download the data [here](../data/H930start2filt.txt.zip).  These data have been pre-filtered, so you do not need to do any filtering, unless you think it will help your analysis.  For this trace:\n",
    "\n",
    "**a)** Locate all spikes.\n",
    "\n",
    "**b)** There are two types of spikes.  Devise a way to automatically tell the difference between each type of spike.  Plot all of the spikes overlayed on top of each other with their minima at the same point.  The plot should be color-coded so that two classes of spikes have different colors.\n",
    "\n",
    "**c)** Plot the empirical probability distributions of inter-spike times for each type of spike and comment on anything you see of note."
   ]
  }
 ],
 "metadata": {
  "kernelspec": {
   "display_name": "Python 3",
   "language": "python",
   "name": "python3"
  },
  "language_info": {
   "codemirror_mode": {
    "name": "ipython",
    "version": 3
   },
   "file_extension": ".py",
   "mimetype": "text/x-python",
   "name": "python",
   "nbconvert_exporter": "python",
   "pygments_lexer": "ipython3",
   "version": "3.4.3"
  }
 },
 "nbformat": 4,
 "nbformat_minor": 0
}
