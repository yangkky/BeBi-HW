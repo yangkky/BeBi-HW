{
 "cells": [
  {
   "cell_type": "code",
   "execution_count": 1,
   "metadata": {
    "collapsed": true
   },
   "outputs": [],
   "source": [
    "import warnings\n",
    "\n",
    "# Our numerical workhorses\n",
    "import numpy as np\n",
    "import pandas as pd\n",
    "import scipy.optimize\n",
    "\n",
    "# Numba for speed\n",
    "import numba\n",
    "\n",
    "# Import plotting tools\n",
    "import matplotlib.pyplot as plt\n",
    "import seaborn as sns\n",
    "\n",
    "# Magic function to make matplotlib inline; other style specs must come AFTER\n",
    "%matplotlib inline\n",
    "\n",
    "# This enables high res graphics inline (only use with static plots (non-Bokeh))\n",
    "# SVG is preferred, but there is a bug in Jupyter with vertical lines\n",
    "%config InlineBackend.figure_formats = {'png', 'retina'}\n",
    "\n",
    "# JB's favorite Seaborn settings for notebooks\n",
    "rc = {'lines.linewidth': 2, \n",
    "      'axes.labelsize': 18, \n",
    "      'axes.titlesize': 18, \n",
    "      'axes.facecolor': 'DFDFE5'}\n",
    "sns.set_context('notebook', rc=rc)\n",
    "sns.set_style('darkgrid', rc=rc)\n",
    "\n",
    "# Suppress future warnings\n",
    "warnings.simplefilter(action='ignore', category=FutureWarning)"
   ]
  },
  {
   "cell_type": "markdown",
   "metadata": {},
   "source": [
    "## Problem 6.1a Probability distribution for three Poisson events\n",
    "The exponential distribution describes the times between events in a Poisson process. For a single Poisson process with average wait-time $\\tau$, the times between events is given by: \n",
    "\n",
    "$$P(t|\\tau, I) = \\frac{1}{\\tau}\\text{exp}\\left[-\\frac{t}{\\tau}\\right]$$\n",
    "\n",
    "Now, let's consider $m$ independent Poisson events, which occur after at times $t_i$ and with average wait-times $\\tau_i$. For convenience, let's sort the events so that $t_i \\leq t_{i+1}$ and $t_0 = 0$. Because the events are independent, their joint probability distribution is simply the product of their individual distributions. \n",
    "\n",
    "\n",
    "$$P(\\left\\{t_i\\right\\}|\\left\\{\\tau_i\\right\\},m,I) = \\prod_{i \\in m} \\frac{1}{\\tau_i}\\text{exp}\\left[-\\frac{t_i-t_{i-1}}{\\tau_i}\\right]$$\n",
    "\n",
    "Now, let's let $m = 3$ and, for clarity of notation, $t_m = t$. \n",
    "\n",
    "$$P(t_1, t_2, t|\\tau_1, \\tau_2, \\tau_3,3,I) = \\frac{1}{\\tau_1\\tau_2\\tau_3}\n",
    "\\text{exp}\\left[-\\frac{t_{1}}{\\tau_1}\\right]\n",
    "\\text{exp}\\left[-\\frac{t_{2}-t_{1}}{\\tau_2}\\right]\n",
    "\\text{exp}\\left[-\\frac{t-t_{2}}{\\tau_3}\\right]$$\n",
    "\n",
    "Since we're only interested in $t$, $t_{1}$ and $t_{2}$ are nuisance variables, which we will marginalize away. In accordance with out earlier constraints that $t_i \\leq t_{i+1}$ and $t_0 = 0$, $0 \\leq t_{1} \\leq t$ and $t_{1} \\leq t_{2} \\leq t$. Therefore, the marginalized distribution for $t$ is \n",
    "\n",
    "$$P(t|\\tau_1, \\tau_2, \\tau_3,3,I) = \\frac{1}{\\tau_1\\tau_2\\tau_3}\n",
    "\\int_{0}^{t}\\text{d}t_{1}\\int_{t_{1}}^t\\text{d}{t_{2}}\n",
    "\\text{ exp}\\left[-\\frac{t_{1}}{\\tau_1}\\right]\n",
    "\\text{exp}\\left[-\\frac{t_{2}-t_{1}}{\\tau_2}\\right]\n",
    "\\text{exp}\\left[-\\frac{t-t_{2}}{\\tau_3}\\right]$$"
   ]
  },
  {
   "cell_type": "markdown",
   "metadata": {},
   "source": [
    "## Ordering the average wait-times\n",
    "\n",
    "We are able to assume that $\\tau_i < \\tau_{i+1}$ because "
   ]
  }
 ],
 "metadata": {
  "kernelspec": {
   "display_name": "Python 3",
   "language": "python",
   "name": "python3"
  },
  "language_info": {
   "codemirror_mode": {
    "name": "ipython",
    "version": 3
   },
   "file_extension": ".py",
   "mimetype": "text/x-python",
   "name": "python",
   "nbconvert_exporter": "python",
   "pygments_lexer": "ipython3",
   "version": "3.4.3"
  }
 },
 "nbformat": 4,
 "nbformat_minor": 0
}
